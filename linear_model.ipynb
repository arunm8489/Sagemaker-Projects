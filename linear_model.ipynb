{
 "cells": [
  {
   "cell_type": "code",
   "execution_count": 113,
   "id": "1ef22203",
   "metadata": {},
   "outputs": [],
   "source": [
    "# import libraries\n",
    "\n",
    "import pandas as pd\n",
    "import numpy as np\n",
    "import seaborn as sns\n",
    "import matplotlib.pyplot as plt\n",
    "import warnings\n",
    "import boto3\n",
    "warnings.simplefilter('ignore')"
   ]
  },
  {
   "cell_type": "code",
   "execution_count": 114,
   "id": "13827903",
   "metadata": {},
   "outputs": [
    {
     "name": "stdout",
     "output_type": "stream",
     "text": [
      "File downloaded\n"
     ]
    }
   ],
   "source": [
    "# Get the service client\n",
    "s3 = boto3.client('s3')\n",
    "bucket_name = 'sagemaker-learner'\n",
    "folder_path = 'data'\n",
    "data_uri = \"s3://sagemaker-learner/data/salary.csv\"\n",
    "\n",
    "try: \n",
    "    s3.download_file(\"sagemaker-learner\", \"data/salary.csv\", \"salary.csv\")\n",
    "    print(f\"File downloaded\")\n",
    "except:\n",
    "    prnt(f\"Error in file download\")"
   ]
  },
  {
   "cell_type": "code",
   "execution_count": 120,
   "id": "8c47af5d",
   "metadata": {},
   "outputs": [
    {
     "data": {
      "text/html": [
       "<div>\n",
       "<style scoped>\n",
       "    .dataframe tbody tr th:only-of-type {\n",
       "        vertical-align: middle;\n",
       "    }\n",
       "\n",
       "    .dataframe tbody tr th {\n",
       "        vertical-align: top;\n",
       "    }\n",
       "\n",
       "    .dataframe thead th {\n",
       "        text-align: right;\n",
       "    }\n",
       "</style>\n",
       "<table border=\"1\" class=\"dataframe\">\n",
       "  <thead>\n",
       "    <tr style=\"text-align: right;\">\n",
       "      <th></th>\n",
       "      <th>YearsExperience</th>\n",
       "      <th>Salary</th>\n",
       "    </tr>\n",
       "  </thead>\n",
       "  <tbody>\n",
       "    <tr>\n",
       "      <th>0</th>\n",
       "      <td>1.1</td>\n",
       "      <td>39343</td>\n",
       "    </tr>\n",
       "    <tr>\n",
       "      <th>1</th>\n",
       "      <td>1.3</td>\n",
       "      <td>46205</td>\n",
       "    </tr>\n",
       "    <tr>\n",
       "      <th>2</th>\n",
       "      <td>1.5</td>\n",
       "      <td>37731</td>\n",
       "    </tr>\n",
       "    <tr>\n",
       "      <th>3</th>\n",
       "      <td>2.0</td>\n",
       "      <td>43525</td>\n",
       "    </tr>\n",
       "    <tr>\n",
       "      <th>4</th>\n",
       "      <td>2.2</td>\n",
       "      <td>39891</td>\n",
       "    </tr>\n",
       "  </tbody>\n",
       "</table>\n",
       "</div>"
      ],
      "text/plain": [
       "   YearsExperience  Salary\n",
       "0              1.1   39343\n",
       "1              1.3   46205\n",
       "2              1.5   37731\n",
       "3              2.0   43525\n",
       "4              2.2   39891"
      ]
     },
     "execution_count": 120,
     "metadata": {},
     "output_type": "execute_result"
    }
   ],
   "source": [
    "df = pd.read_csv('salary.csv')\n",
    "df.head()"
   ]
  },
  {
   "cell_type": "code",
   "execution_count": 121,
   "id": "bf7fc787",
   "metadata": {},
   "outputs": [
    {
     "data": {
      "text/plain": [
       "((35,), (35,))"
      ]
     },
     "execution_count": 121,
     "metadata": {},
     "output_type": "execute_result"
    }
   ],
   "source": [
    "X = df['YearsExperience']\n",
    "y = df['Salary']\n",
    "\n",
    "X.shape,y.shape"
   ]
  },
  {
   "cell_type": "code",
   "execution_count": 122,
   "id": "ae68bd3e",
   "metadata": {},
   "outputs": [
    {
     "data": {
      "image/png": "[encoded data removed]",
      "text/plain": [
       "<Figure size 432x288 with 1 Axes>"
      ]
     },
     "metadata": {
      "needs_background": "light"
     },
     "output_type": "display_data"
    }
   ],
   "source": [
    "sns.regplot(X,y)\n",
    "sns.scatterplot(X,y)\n",
    "plt.show()"
   ]
  },
  {
   "cell_type": "markdown",
   "id": "444b8a2d",
   "metadata": {},
   "source": [
    "### Train test split"
   ]
  },
  {
   "cell_type": "code",
   "execution_count": 142,
   "id": "f248ecb2",
   "metadata": {},
   "outputs": [],
   "source": [
    "from sklearn.model_selection import train_test_split\n",
    "\n",
    "X_train,X_test,y_train,y_test = train_test_split(X,y,random_state=42)\n",
    "\n",
    "\n"
   ]
  },
  {
   "cell_type": "code",
   "execution_count": 143,
   "id": "40e90789",
   "metadata": {},
   "outputs": [],
   "source": [
    "# scalling data berfore linear regerssion\n",
    "from sklearn.preprocessing import StandardScaler\n",
    "\n",
    "std = StandardScaler()\n",
    "std.fit(X_train.values.reshape(-1,1))\n",
    "\n",
    "X_train = std.transform(X_train.values.reshape(-1,1))\n",
    "X_test = std.transform(X_test.values.reshape(-1,1))\n"
   ]
  },
  {
   "cell_type": "markdown",
   "id": "64b5ebe0",
   "metadata": {},
   "source": [
    "## Linear regerssion model using sklearn"
   ]
  },
  {
   "cell_type": "code",
   "execution_count": 125,
   "id": "a2dd8d6c",
   "metadata": {},
   "outputs": [
    {
     "name": "stdout",
     "output_type": "stream",
     "text": [
      "Train mse : 29249963.411905907\n",
      "Test mse : 54958757.926339835\n",
      "R2 score : 0.9742750759768667\n",
      "R2 score : 0.9094204577612955\n"
     ]
    }
   ],
   "source": [
    "from sklearn.linear_model import LinearRegression\n",
    "from sklearn.metrics import mean_squared_error,r2_score\n",
    "\n",
    "model = LinearRegression()\n",
    "model.fit(X_train,y_train)\n",
    "\n",
    "y_train_pred = model.predict(X_train)\n",
    "y_test_pred = model.predict(X_test)\n",
    "\n",
    "\n",
    "print(f'Train mse : {mean_squared_error(y_train,y_train_pred)}')\n",
    "print(f'Test mse : {mean_squared_error(y_test,y_test_pred)}')\n",
    "\n",
    "\n",
    "print(f'R2 score : {r2_score(y_train,y_train_pred)}')\n",
    "print(f'R2 score : {r2_score(y_test,y_test_pred)}')"
   ]
  },
  {
   "cell_type": "markdown",
   "id": "9c41f64d",
   "metadata": {},
   "source": [
    "## Train model using sagemaker"
   ]
  },
  {
   "cell_type": "markdown",
   "id": "9b9ad364",
   "metadata": {},
   "source": [
    "First we will upload data to s3"
   ]
  },
  {
   "cell_type": "code",
   "execution_count": 144,
   "id": "cfce46e0",
   "metadata": {},
   "outputs": [],
   "source": [
    "y_train = y_train.values\n",
    "y_test = y_test.values\n",
    "\n",
    "X_train = X_train.astype('float32')\n",
    "y_train = y_train.astype('float32')\n",
    "X_test = X_test.astype('float32')\n",
    "y_test = y_test.astype('float32')\n",
    "\n",
    "\n",
    "#writing file to s3 location\n",
    "s3_train_key = 'salary_prediction/train'\n",
    "s3_test_key = 'salary_prediction/test'\n",
    "\n",
    " \n",
    "import io # The io module allows for dealing with various types of I/O (text I/O, binary I/O and raw I/O).\n",
    "import sagemaker.amazon.common as smac\n",
    "\n",
    "# Code below converts the data in numpy array format to RecordIO format\n",
    "# This is the format required by Sagemaker Linear Learner\n",
    "s3_client = boto3.client('s3') \n",
    "\n",
    "buf = io.BytesIO() # create an in-memory byte array (buf is a buffer I will be writing to)\n",
    "smac.write_numpy_to_dense_tensor(buf, X_train, y_train)\n",
    "buf.seek(0) \n",
    "s3_client.upload_fileobj(buf, bucket_name, s3_train_key)\n",
    "\n",
    "buf = io.BytesIO() # create an in-memory byte array (buf is a buffer I will be writing to)\n",
    "smac.write_numpy_to_dense_tensor(buf, X_test, y_test)\n",
    "buf.seek(0) \n",
    "s3_client.upload_fileobj(buf, bucket_name, s3_test_key)\n"
   ]
  },
  {
   "cell_type": "code",
   "execution_count": 145,
   "id": "23eae662",
   "metadata": {},
   "outputs": [
    {
     "name": "stderr",
     "output_type": "stream",
     "text": [
      "The method get_image_uri has been renamed in sagemaker>=2.\n",
      "See: https://sagemaker.readthedocs.io/en/stable/v2.html for details.\n",
      "Defaulting to the only supported framework/algorithm version: 1. Ignoring framework/algorithm version: 1.\n",
      "train_instance_count has been renamed in sagemaker>=2.\n",
      "See: https://sagemaker.readthedocs.io/en/stable/v2.html for details.\n",
      "train_instance_type has been renamed in sagemaker>=2.\n",
      "See: https://sagemaker.readthedocs.io/en/stable/v2.html for details.\n"
     ]
    }
   ],
   "source": [
    "import sagemaker\n",
    "from sagemaker.amazon.amazon_estimator import get_image_uri\n",
    "import boto3\n",
    "\n",
    "sagemaker_session = sagemaker.Session()\n",
    "# get region\n",
    "region_name = boto3.Session().region_name\n",
    "# get execution role\n",
    "role =  sagemaker.get_execution_role()\n",
    "\n",
    "\n",
    "output_location = \"s3://sagemaker-learner/salary_prediction/\"\n",
    "container = get_image_uri(region_name, 'linear-learner')\n",
    "linear = sagemaker.estimator.Estimator(container,\n",
    "                                       role, \n",
    "                                       train_instance_count = 1, \n",
    "                                       train_instance_type = 'ml.c4.xlarge',\n",
    "                                       output_path = output_location,\n",
    "                                       sagemaker_session = sagemaker_session)\n"
   ]
  },
  {
   "cell_type": "code",
   "execution_count": 146,
   "id": "c414b04d",
   "metadata": {},
   "outputs": [
    {
     "name": "stdout",
     "output_type": "stream",
     "text": [
      "2022-09-05 09:10:49 Starting - Starting the training job...\n",
      "2022-09-05 09:11:17 Starting - Preparing the instances for trainingProfilerReport-1662369049: InProgress\n",
      "......\n",
      "2022-09-05 09:12:20 Downloading - Downloading input data...\n",
      "2022-09-05 09:12:40 Training - Downloading the training image.............\u001b[34mDocker entrypoint called with argument(s): train\u001b[0m\n",
      "\u001b[34mRunning default environment configuration script\u001b[0m\n",
      "\u001b[34m[09/05/2022 09:14:55 INFO 140587301197632] Reading default configuration from /opt/amazon/lib/python3.7/site-packages/algorithm/resources/default-input.json: {'mini_batch_size': '1000', 'epochs': '15', 'feature_dim': 'auto', 'use_bias': 'true', 'binary_classifier_model_selection_criteria': 'accuracy', 'f_beta': '1.0', 'target_recall': '0.8', 'target_precision': '0.8', 'num_models': 'auto', 'num_calibration_samples': '10000000', 'init_method': 'uniform', 'init_scale': '0.07', 'init_sigma': '0.01', 'init_bias': '0.0', 'optimizer': 'auto', 'loss': 'auto', 'margin': '1.0', 'quantile': '0.5', 'loss_insensitivity': '0.01', 'huber_delta': '1.0', 'num_classes': '1', 'accuracy_top_k': '3', 'wd': 'auto', 'l1': 'auto', 'momentum': 'auto', 'learning_rate': 'auto', 'beta_1': 'auto', 'beta_2': 'auto', 'bias_lr_mult': 'auto', 'bias_wd_mult': 'auto', 'use_lr_scheduler': 'true', 'lr_scheduler_step': 'auto', 'lr_scheduler_factor': 'auto', 'lr_scheduler_minimum_lr': 'auto', 'positive_example_weight_mult': '1.0', 'balance_multiclass_weights': 'false', 'normalize_data': 'true', 'normalize_label': 'auto', 'unbias_data': 'auto', 'unbias_label': 'auto', 'num_point_for_scaler': '10000', '_kvstore': 'auto', '_num_gpus': 'auto', '_num_kv_servers': 'auto', '_log_level': 'info', '_tuning_objective_metric': '', 'early_stopping_patience': '3', 'early_stopping_tolerance': '0.001', '_enable_profiler': 'false'}\u001b[0m\n",
      "\u001b[34m[09/05/2022 09:14:55 INFO 140587301197632] Merging with provided configuration from /opt/ml/input/config/hyperparameters.json: {'epochs': '5', 'feature_dim': '1', 'loss': 'squared_loss', 'mini_batch_size': '5', 'num_models': '6', 'predictor_type': 'regressor'}\u001b[0m\n",
      "\u001b[34m[09/05/2022 09:14:55 INFO 140587301197632] Final configuration: {'mini_batch_size': '5', 'epochs': '5', 'feature_dim': '1', 'use_bias': 'true', 'binary_classifier_model_selection_criteria': 'accuracy', 'f_beta': '1.0', 'target_recall': '0.8', 'target_precision': '0.8', 'num_models': '6', 'num_calibration_samples': '10000000', 'init_method': 'uniform', 'init_scale': '0.07', 'init_sigma': '0.01', 'init_bias': '0.0', 'optimizer': 'auto', 'loss': 'squared_loss', 'margin': '1.0', 'quantile': '0.5', 'loss_insensitivity': '0.01', 'huber_delta': '1.0', 'num_classes': '1', 'accuracy_top_k': '3', 'wd': 'auto', 'l1': 'auto', 'momentum': 'auto', 'learning_rate': 'auto', 'beta_1': 'auto', 'beta_2': 'auto', 'bias_lr_mult': 'auto', 'bias_wd_mult': 'auto', 'use_lr_scheduler': 'true', 'lr_scheduler_step': 'auto', 'lr_scheduler_factor': 'auto', 'lr_scheduler_minimum_lr': 'auto', 'positive_example_weight_mult': '1.0', 'balance_multiclass_weights': 'false', 'normalize_data': 'true', 'normalize_label': 'auto', 'unbias_data': 'auto', 'unbias_label': 'auto', 'num_point_for_scaler': '10000', '_kvstore': 'auto', '_num_gpus': 'auto', '_num_kv_servers': 'auto', '_log_level': 'info', '_tuning_objective_metric': '', 'early_stopping_patience': '3', 'early_stopping_tolerance': '0.001', '_enable_profiler': 'false', 'predictor_type': 'regressor'}\u001b[0m\n",
      "\u001b[34m[09/05/2022 09:14:59 WARNING 140587301197632] Loggers have already been setup.\u001b[0m\n",
      "\u001b[34m[09/05/2022 09:14:59 INFO 140587301197632] Final configuration: {'mini_batch_size': '5', 'epochs': '5', 'feature_dim': '1', 'use_bias': 'true', 'binary_classifier_model_selection_criteria': 'accuracy', 'f_beta': '1.0', 'target_recall': '0.8', 'target_precision': '0.8', 'num_models': '6', 'num_calibration_samples': '10000000', 'init_method': 'uniform', 'init_scale': '0.07', 'init_sigma': '0.01', 'init_bias': '0.0', 'optimizer': 'auto', 'loss': 'squared_loss', 'margin': '1.0', 'quantile': '0.5', 'loss_insensitivity': '0.01', 'huber_delta': '1.0', 'num_classes': '1', 'accuracy_top_k': '3', 'wd': 'auto', 'l1': 'auto', 'momentum': 'auto', 'learning_rate': 'auto', 'beta_1': 'auto', 'beta_2': 'auto', 'bias_lr_mult': 'auto', 'bias_wd_mult': 'auto', 'use_lr_scheduler': 'true', 'lr_scheduler_step': 'auto', 'lr_scheduler_factor': 'auto', 'lr_scheduler_minimum_lr': 'auto', 'positive_example_weight_mult': '1.0', 'balance_multiclass_weights': 'false', 'normalize_data': 'true', 'normalize_label': 'auto', 'unbias_data': 'auto', 'unbias_label': 'auto', 'num_point_for_scaler': '10000', '_kvstore': 'auto', '_num_gpus': 'auto', '_num_kv_servers': 'auto', '_log_level': 'info', '_tuning_objective_metric': '', 'early_stopping_patience': '3', 'early_stopping_tolerance': '0.001', '_enable_profiler': 'false', 'predictor_type': 'regressor'}\u001b[0m\n",
      "\u001b[34m[09/05/2022 09:14:59 WARNING 140587301197632] Loggers have already been setup.\u001b[0m\n",
      "\u001b[34mProcess 1 is a worker.\u001b[0m\n",
      "\u001b[34m[09/05/2022 09:14:59 INFO 140587301197632] Using default worker.\u001b[0m\n",
      "\u001b[34m[09/05/2022 09:14:59 INFO 140587301197632] Checkpoint loading and saving are disabled.\u001b[0m\n",
      "\u001b[34m[2022-09-05 09:14:59.956] [tensorio] [info] epoch_stats={\"data_pipeline\": \"/opt/ml/input/data/train\", \"epoch\": 0, \"duration\": 25, \"num_examples\": 1, \"num_bytes\": 240}\u001b[0m\n",
      "\u001b[34m[09/05/2022 09:14:59 INFO 140587301197632] Create Store: local\u001b[0m\n",
      "\u001b[34m[2022-09-05 09:15:00.023] [tensorio] [info] epoch_stats={\"data_pipeline\": \"/opt/ml/input/data/train\", \"epoch\": 1, \"duration\": 66, \"num_examples\": 6, \"num_bytes\": 1248}\u001b[0m\n",
      "\u001b[34m[09/05/2022 09:15:00 INFO 140587301197632] Scaler algorithm parameters\n",
      " <algorithm.scaler.ScalerAlgorithmStable object at 0x7fdc7ed561d0>\u001b[0m\n",
      "\u001b[34m[09/05/2022 09:15:00 INFO 140587301197632] Scaling model computed with parameters:\n",
      " {'stdev_label': \u001b[0m\n",
      "\u001b[34m[33423.04]\u001b[0m\n",
      "\u001b[34m<NDArray 1 @cpu(0)>, 'stdev_weight': \u001b[0m\n",
      "\u001b[34m[0.99732894]\u001b[0m\n",
      "\u001b[34m<NDArray 1 @cpu(0)>, 'mean_label': \u001b[0m\n",
      "\u001b[34m[81151.96]\u001b[0m\n",
      "\u001b[34m<NDArray 1 @cpu(0)>, 'mean_weight': \u001b[0m\n",
      "\u001b[34m[-0.04175719]\u001b[0m\n",
      "\u001b[34m<NDArray 1 @cpu(0)>}\u001b[0m\n",
      "\u001b[34m[09/05/2022 09:15:00 INFO 140587301197632] nvidia-smi: took 0.032 seconds to run.\u001b[0m\n",
      "\u001b[34m[09/05/2022 09:15:00 INFO 140587301197632] nvidia-smi identified 0 GPUs.\u001b[0m\n",
      "\u001b[34m[09/05/2022 09:15:00 INFO 140587301197632] Number of GPUs being used: 0\u001b[0m\n",
      "\u001b[34m#metrics {\"StartTime\": 1662369300.076339, \"EndTime\": 1662369300.076372, \"Dimensions\": {\"Algorithm\": \"Linear Learner\", \"Host\": \"algo-1\", \"Operation\": \"training\", \"Meta\": \"init_train_data_iter\"}, \"Metrics\": {\"Total Records Seen\": {\"sum\": 31.0, \"count\": 1, \"min\": 31, \"max\": 31}, \"Total Batches Seen\": {\"sum\": 7.0, \"count\": 1, \"min\": 7, \"max\": 7}, \"Max Records Seen Between Resets\": {\"sum\": 26.0, \"count\": 1, \"min\": 26, \"max\": 26}, \"Max Batches Seen Between Resets\": {\"sum\": 6.0, \"count\": 1, \"min\": 6, \"max\": 6}, \"Reset Count\": {\"sum\": 2.0, \"count\": 1, \"min\": 2, \"max\": 2}, \"Number of Records Since Last Reset\": {\"sum\": 0.0, \"count\": 1, \"min\": 0, \"max\": 0}, \"Number of Batches Since Last Reset\": {\"sum\": 0.0, \"count\": 1, \"min\": 0, \"max\": 0}}}\u001b[0m\n",
      "\u001b[34m[2022-09-05 09:15:00.133] [tensorio] [info] epoch_stats={\"data_pipeline\": \"/opt/ml/input/data/train\", \"epoch\": 4, \"duration\": 56, \"num_examples\": 6, \"num_bytes\": 1248}\u001b[0m\n",
      "\u001b[34m#metrics {\"StartTime\": 1662369300.1337318, \"EndTime\": 1662369300.133793, \"Dimensions\": {\"Algorithm\": \"Linear Learner\", \"Host\": \"algo-1\", \"Operation\": \"training\", \"epoch\": 0, \"model\": 0}, \"Metrics\": {\"train_mse_objective\": {\"sum\": 0.998749647140503, \"count\": 1, \"min\": 0.998749647140503, \"max\": 0.998749647140503}}}\u001b[0m\n",
      "\u001b[34m#metrics {\"StartTime\": 1662369300.1338885, \"EndTime\": 1662369300.1339104, \"Dimensions\": {\"Algorithm\": \"Linear Learner\", \"Host\": \"algo-1\", \"Operation\": \"training\", \"epoch\": 0, \"model\": 1}, \"Metrics\": {\"train_mse_objective\": {\"sum\": 0.9866671466827392, \"count\": 1, \"min\": 0.9866671466827392, \"max\": 0.9866671466827392}}}\u001b[0m\n",
      "\u001b[34m#metrics {\"StartTime\": 1662369300.133966, \"EndTime\": 1662369300.1339843, \"Dimensions\": {\"Algorithm\": \"Linear Learner\", \"Host\": \"algo-1\", \"Operation\": \"training\", \"epoch\": 0, \"model\": 2}, \"Metrics\": {\"train_mse_objective\": {\"sum\": 0.9534928131103516, \"count\": 1, \"min\": 0.9534928131103516, \"max\": 0.9534928131103516}}}\u001b[0m\n",
      "\u001b[34m#metrics {\"StartTime\": 1662369300.134036, \"EndTime\": 1662369300.1340518, \"Dimensions\": {\"Algorithm\": \"Linear Learner\", \"Host\": \"algo-1\", \"Operation\": \"training\", \"epoch\": 0, \"model\": 3}, \"Metrics\": {\"train_mse_objective\": {\"sum\": 0.9191277408599854, \"count\": 1, \"min\": 0.9191277408599854, \"max\": 0.9191277408599854}}}\u001b[0m\n",
      "\u001b[34m#metrics {\"StartTime\": 1662369300.1341004, \"EndTime\": 1662369300.134116, \"Dimensions\": {\"Algorithm\": \"Linear Learner\", \"Host\": \"algo-1\", \"Operation\": \"training\", \"epoch\": 0, \"model\": 4}, \"Metrics\": {\"train_mse_objective\": {\"sum\": 1.0233221054077148, \"count\": 1, \"min\": 1.0233221054077148, \"max\": 1.0233221054077148}}}\u001b[0m\n",
      "\u001b[34m#metrics {\"StartTime\": 1662369300.1341636, \"EndTime\": 1662369300.1341777, \"Dimensions\": {\"Algorithm\": \"Linear Learner\", \"Host\": \"algo-1\", \"Operation\": \"training\", \"epoch\": 0, \"model\": 5}, \"Metrics\": {\"train_mse_objective\": {\"sum\": 0.9666144847869873, \"count\": 1, \"min\": 0.9666144847869873, \"max\": 0.9666144847869873}}}\u001b[0m\n",
      "\u001b[34m[09/05/2022 09:15:00 INFO 140587301197632] #quality_metric: host=algo-1, epoch=0, train mse_objective <loss>=0.998749647140503\u001b[0m\n",
      "\u001b[34m[09/05/2022 09:15:00 INFO 140587301197632] #early_stopping_criteria_metric: host=algo-1, epoch=0, criteria=mse_objective, value=0.9191277408599854\u001b[0m\n",
      "\u001b[34m[09/05/2022 09:15:00 INFO 140587301197632] Epoch 0: Loss improved. Updating best model\u001b[0m\n",
      "\u001b[34m[09/05/2022 09:15:00 INFO 140587301197632] Saving model for epoch: 0\u001b[0m\n",
      "\u001b[34m[09/05/2022 09:15:00 INFO 140587301197632] Saved checkpoint to \"/tmp/tmpymn8nrni/mx-mod-0000.params\"\u001b[0m\n",
      "\u001b[34m[09/05/2022 09:15:00 INFO 140587301197632] #progress_metric: host=algo-1, completed 20.0 % of epochs\u001b[0m\n",
      "\u001b[34m#metrics {\"StartTime\": 1662369300.0766428, \"EndTime\": 1662369300.1516912, \"Dimensions\": {\"Algorithm\": \"Linear Learner\", \"Host\": \"algo-1\", \"Operation\": \"training\", \"epoch\": 0, \"Meta\": \"training_data_iter\"}, \"Metrics\": {\"Total Records Seen\": {\"sum\": 57.0, \"count\": 1, \"min\": 57, \"max\": 57}, \"Total Batches Seen\": {\"sum\": 13.0, \"count\": 1, \"min\": 13, \"max\": 13}, \"Max Records Seen Between Resets\": {\"sum\": 26.0, \"count\": 1, \"min\": 26, \"max\": 26}, \"Max Batches Seen Between Resets\": {\"sum\": 6.0, \"count\": 1, \"min\": 6, \"max\": 6}, \"Reset Count\": {\"sum\": 3.0, \"count\": 1, \"min\": 3, \"max\": 3}, \"Number of Records Since Last Reset\": {\"sum\": 26.0, \"count\": 1, \"min\": 26, \"max\": 26}, \"Number of Batches Since Last Reset\": {\"sum\": 6.0, \"count\": 1, \"min\": 6, \"max\": 6}}}\u001b[0m\n",
      "\u001b[34m[09/05/2022 09:15:00 INFO 140587301197632] #throughput_metric: host=algo-1, train throughput=345.8100915802024 records/second\u001b[0m\n",
      "\u001b[34m[2022-09-05 09:15:00.182] [tensorio] [info] epoch_stats={\"data_pipeline\": \"/opt/ml/input/data/train\", \"epoch\": 6, \"duration\": 30, \"num_examples\": 6, \"num_bytes\": 1248}\u001b[0m\n",
      "\u001b[34m#metrics {\"StartTime\": 1662369300.1824753, \"EndTime\": 1662369300.1825235, \"Dimensions\": {\"Algorithm\": \"Linear Learner\", \"Host\": \"algo-1\", \"Operation\": \"training\", \"epoch\": 1, \"model\": 0}, \"Metrics\": {\"train_mse_objective\": {\"sum\": 0.9295710563659668, \"count\": 1, \"min\": 0.9295710563659668, \"max\": 0.9295710563659668}}}\u001b[0m\n",
      "\u001b[34m#metrics {\"StartTime\": 1662369300.1827044, \"EndTime\": 1662369300.1827295, \"Dimensions\": {\"Algorithm\": \"Linear Learner\", \"Host\": \"algo-1\", \"Operation\": \"training\", \"epoch\": 1, \"model\": 1}, \"Metrics\": {\"train_mse_objective\": {\"sum\": 0.9178682136535644, \"count\": 1, \"min\": 0.9178682136535644, \"max\": 0.9178682136535644}}}\u001b[0m\n",
      "\u001b[34m#metrics {\"StartTime\": 1662369300.1827896, \"EndTime\": 1662369300.1828794, \"Dimensions\": {\"Algorithm\": \"Linear Learner\", \"Host\": \"algo-1\", \"Operation\": \"training\", \"epoch\": 1, \"model\": 2}, \"Metrics\": {\"train_mse_objective\": {\"sum\": 0.8857493495941162, \"count\": 1, \"min\": 0.8857493495941162, \"max\": 0.8857493495941162}}}\u001b[0m\n",
      "\u001b[34m#metrics {\"StartTime\": 1662369300.1829414, \"EndTime\": 1662369300.1830463, \"Dimensions\": {\"Algorithm\": \"Linear Learner\", \"Host\": \"algo-1\", \"Operation\": \"training\", \"epoch\": 1, \"model\": 3}, \"Metrics\": {\"train_mse_objective\": {\"sum\": 0.852498722076416, \"count\": 1, \"min\": 0.852498722076416, \"max\": 0.852498722076416}}}\u001b[0m\n",
      "\u001b[34m#metrics {\"StartTime\": 1662369300.1831973, \"EndTime\": 1662369300.183218, \"Dimensions\": {\"Algorithm\": \"Linear Learner\", \"Host\": \"algo-1\", \"Operation\": \"training\", \"epoch\": 1, \"model\": 4}, \"Metrics\": {\"train_mse_objective\": {\"sum\": 0.6103494560718536, \"count\": 1, \"min\": 0.6103494560718536, \"max\": 0.6103494560718536}}}\u001b[0m\n",
      "\u001b[34m#metrics {\"StartTime\": 1662369300.1832738, \"EndTime\": 1662369300.1833766, \"Dimensions\": {\"Algorithm\": \"Linear Learner\", \"Host\": \"algo-1\", \"Operation\": \"training\", \"epoch\": 1, \"model\": 5}, \"Metrics\": {\"train_mse_objective\": {\"sum\": 0.5765496987104416, \"count\": 1, \"min\": 0.5765496987104416, \"max\": 0.5765496987104416}}}\u001b[0m\n",
      "\u001b[34m[09/05/2022 09:15:00 INFO 140587301197632] #quality_metric: host=algo-1, epoch=1, train mse_objective <loss>=0.9295710563659668\u001b[0m\n",
      "\u001b[34m[09/05/2022 09:15:00 INFO 140587301197632] #early_stopping_criteria_metric: host=algo-1, epoch=1, criteria=mse_objective, value=0.5765496987104416\u001b[0m\n",
      "\u001b[34m[09/05/2022 09:15:00 INFO 140587301197632] Epoch 1: Loss improved. Updating best model\u001b[0m\n",
      "\u001b[34m[09/05/2022 09:15:00 INFO 140587301197632] Saving model for epoch: 1\u001b[0m\n",
      "\u001b[34m[09/05/2022 09:15:00 INFO 140587301197632] Saved checkpoint to \"/tmp/tmplkyvsinu/mx-mod-0000.params\"\u001b[0m\n",
      "\u001b[34m[09/05/2022 09:15:00 INFO 140587301197632] #progress_metric: host=algo-1, completed 40.0 % of epochs\u001b[0m\n",
      "\u001b[34m#metrics {\"StartTime\": 1662369300.1520033, \"EndTime\": 1662369300.1907518, \"Dimensions\": {\"Algorithm\": \"Linear Learner\", \"Host\": \"algo-1\", \"Operation\": \"training\", \"epoch\": 1, \"Meta\": \"training_data_iter\"}, \"Metrics\": {\"Total Records Seen\": {\"sum\": 83.0, \"count\": 1, \"min\": 83, \"max\": 83}, \"Total Batches Seen\": {\"sum\": 19.0, \"count\": 1, \"min\": 19, \"max\": 19}, \"Max Records Seen Between Resets\": {\"sum\": 26.0, \"count\": 1, \"min\": 26, \"max\": 26}, \"Max Batches Seen Between Resets\": {\"sum\": 6.0, \"count\": 1, \"min\": 6, \"max\": 6}, \"Reset Count\": {\"sum\": 4.0, \"count\": 1, \"min\": 4, \"max\": 4}, \"Number of Records Since Last Reset\": {\"sum\": 26.0, \"count\": 1, \"min\": 26, \"max\": 26}, \"Number of Batches Since Last Reset\": {\"sum\": 6.0, \"count\": 1, \"min\": 6, \"max\": 6}}}\u001b[0m\n",
      "\u001b[34m[09/05/2022 09:15:00 INFO 140587301197632] #throughput_metric: host=algo-1, train throughput=668.6854872335729 records/second\u001b[0m\n",
      "\u001b[34m[2022-09-05 09:15:00.216] [tensorio] [info] epoch_stats={\"data_pipeline\": \"/opt/ml/input/data/train\", \"epoch\": 8, \"duration\": 25, \"num_examples\": 6, \"num_bytes\": 1248}\u001b[0m\n",
      "\u001b[34m#metrics {\"StartTime\": 1662369300.2164493, \"EndTime\": 1662369300.2164896, \"Dimensions\": {\"Algorithm\": \"Linear Learner\", \"Host\": \"algo-1\", \"Operation\": \"training\", \"epoch\": 2, \"model\": 0}, \"Metrics\": {\"train_mse_objective\": {\"sum\": 0.8799432182312011, \"count\": 1, \"min\": 0.8799432182312011, \"max\": 0.8799432182312011}}}\u001b[0m\n",
      "\u001b[34m#metrics {\"StartTime\": 1662369300.2165568, \"EndTime\": 1662369300.2165706, \"Dimensions\": {\"Algorithm\": \"Linear Learner\", \"Host\": \"algo-1\", \"Operation\": \"training\", \"epoch\": 2, \"model\": 1}, \"Metrics\": {\"train_mse_objective\": {\"sum\": 0.8683835029602051, \"count\": 1, \"min\": 0.8683835029602051, \"max\": 0.8683835029602051}}}\u001b[0m\n",
      "\u001b[34m#metrics {\"StartTime\": 1662369300.2166073, \"EndTime\": 1662369300.216617, \"Dimensions\": {\"Algorithm\": \"Linear Learner\", \"Host\": \"algo-1\", \"Operation\": \"training\", \"epoch\": 2, \"model\": 2}, \"Metrics\": {\"train_mse_objective\": {\"sum\": 0.8373595237731933, \"count\": 1, \"min\": 0.8373595237731933, \"max\": 0.8373595237731933}}}\u001b[0m\n",
      "\u001b[34m#metrics {\"StartTime\": 1662369300.2167673, \"EndTime\": 1662369300.2167816, \"Dimensions\": {\"Algorithm\": \"Linear Learner\", \"Host\": \"algo-1\", \"Operation\": \"training\", \"epoch\": 2, \"model\": 3}, \"Metrics\": {\"train_mse_objective\": {\"sum\": 0.804896240234375, \"count\": 1, \"min\": 0.804896240234375, \"max\": 0.804896240234375}}}\u001b[0m\n",
      "\u001b[34m#metrics {\"StartTime\": 1662369300.2169633, \"EndTime\": 1662369300.2169795, \"Dimensions\": {\"Algorithm\": \"Linear Learner\", \"Host\": \"algo-1\", \"Operation\": \"training\", \"epoch\": 2, \"model\": 4}, \"Metrics\": {\"train_mse_objective\": {\"sum\": 0.21957483649253845, \"count\": 1, \"min\": 0.21957483649253845, \"max\": 0.21957483649253845}}}\u001b[0m\n",
      "\u001b[34m#metrics {\"StartTime\": 1662369300.217024, \"EndTime\": 1662369300.2170348, \"Dimensions\": {\"Algorithm\": \"Linear Learner\", \"Host\": \"algo-1\", \"Operation\": \"training\", \"epoch\": 2, \"model\": 5}, \"Metrics\": {\"train_mse_objective\": {\"sum\": 0.2155120003223419, \"count\": 1, \"min\": 0.2155120003223419, \"max\": 0.2155120003223419}}}\u001b[0m\n",
      "\u001b[34m[09/05/2022 09:15:00 INFO 140587301197632] #quality_metric: host=algo-1, epoch=2, train mse_objective <loss>=0.8799432182312011\u001b[0m\n",
      "\u001b[34m[09/05/2022 09:15:00 INFO 140587301197632] #early_stopping_criteria_metric: host=algo-1, epoch=2, criteria=mse_objective, value=0.2155120003223419\u001b[0m\n",
      "\u001b[34m[09/05/2022 09:15:00 INFO 140587301197632] Epoch 2: Loss improved. Updating best model\u001b[0m\n",
      "\u001b[34m[09/05/2022 09:15:00 INFO 140587301197632] Saving model for epoch: 2\u001b[0m\n",
      "\u001b[34m[09/05/2022 09:15:00 INFO 140587301197632] Saved checkpoint to \"/tmp/tmpuuoahrec/mx-mod-0000.params\"\u001b[0m\n",
      "\u001b[34m[09/05/2022 09:15:00 INFO 140587301197632] #progress_metric: host=algo-1, completed 60.0 % of epochs\u001b[0m\n",
      "\u001b[34m#metrics {\"StartTime\": 1662369300.1910505, \"EndTime\": 1662369300.227251, \"Dimensions\": {\"Algorithm\": \"Linear Learner\", \"Host\": \"algo-1\", \"Operation\": \"training\", \"epoch\": 2, \"Meta\": \"training_data_iter\"}, \"Metrics\": {\"Total Records Seen\": {\"sum\": 109.0, \"count\": 1, \"min\": 109, \"max\": 109}, \"Total Batches Seen\": {\"sum\": 25.0, \"count\": 1, \"min\": 25, \"max\": 25}, \"Max Records Seen Between Resets\": {\"sum\": 26.0, \"count\": 1, \"min\": 26, \"max\": 26}, \"Max Batches Seen Between Resets\": {\"sum\": 6.0, \"count\": 1, \"min\": 6, \"max\": 6}, \"Reset Count\": {\"sum\": 5.0, \"count\": 1, \"min\": 5, \"max\": 5}, \"Number of Records Since Last Reset\": {\"sum\": 26.0, \"count\": 1, \"min\": 26, \"max\": 26}, \"Number of Batches Since Last Reset\": {\"sum\": 6.0, \"count\": 1, \"min\": 6, \"max\": 6}}}\u001b[0m\n",
      "\u001b[34m[09/05/2022 09:15:00 INFO 140587301197632] #throughput_metric: host=algo-1, train throughput=715.6998641473771 records/second\u001b[0m\n",
      "\u001b[34m[2022-09-05 09:15:00.253] [tensorio] [info] epoch_stats={\"data_pipeline\": \"/opt/ml/input/data/train\", \"epoch\": 10, \"duration\": 26, \"num_examples\": 6, \"num_bytes\": 1248}\u001b[0m\n",
      "\u001b[34m#metrics {\"StartTime\": 1662369300.2542841, \"EndTime\": 1662369300.2543278, \"Dimensions\": {\"Algorithm\": \"Linear Learner\", \"Host\": \"algo-1\", \"Operation\": \"training\", \"epoch\": 3, \"model\": 0}, \"Metrics\": {\"train_mse_objective\": {\"sum\": 0.8376435565948487, \"count\": 1, \"min\": 0.8376435565948487, \"max\": 0.8376435565948487}}}\u001b[0m\n",
      "\u001b[34m#metrics {\"StartTime\": 1662369300.254685, \"EndTime\": 1662369300.254707, \"Dimensions\": {\"Algorithm\": \"Linear Learner\", \"Host\": \"algo-1\", \"Operation\": \"training\", \"epoch\": 3, \"model\": 1}, \"Metrics\": {\"train_mse_objective\": {\"sum\": 0.826027774810791, \"count\": 1, \"min\": 0.826027774810791, \"max\": 0.826027774810791}}}\u001b[0m\n",
      "\u001b[34m#metrics {\"StartTime\": 1662369300.2548125, \"EndTime\": 1662369300.2548275, \"Dimensions\": {\"Algorithm\": \"Linear Learner\", \"Host\": \"algo-1\", \"Operation\": \"training\", \"epoch\": 3, \"model\": 2}, \"Metrics\": {\"train_mse_objective\": {\"sum\": 0.7963036060333252, \"count\": 1, \"min\": 0.7963036060333252, \"max\": 0.7963036060333252}}}\u001b[0m\n",
      "\u001b[34m#metrics {\"StartTime\": 1662369300.2548666, \"EndTime\": 1662369300.2548769, \"Dimensions\": {\"Algorithm\": \"Linear Learner\", \"Host\": \"algo-1\", \"Operation\": \"training\", \"epoch\": 3, \"model\": 3}, \"Metrics\": {\"train_mse_objective\": {\"sum\": 0.7644406604766846, \"count\": 1, \"min\": 0.7644406604766846, \"max\": 0.7644406604766846}}}\u001b[0m\n",
      "\u001b[34m#metrics {\"StartTime\": 1662369300.25491, \"EndTime\": 1662369300.2549188, \"Dimensions\": {\"Algorithm\": \"Linear Learner\", \"Host\": \"algo-1\", \"Operation\": \"training\", \"epoch\": 3, \"model\": 4}, \"Metrics\": {\"train_mse_objective\": {\"sum\": 0.16918599486351013, \"count\": 1, \"min\": 0.16918599486351013, \"max\": 0.16918599486351013}}}\u001b[0m\n",
      "\u001b[34m#metrics {\"StartTime\": 1662369300.254951, \"EndTime\": 1662369300.2549598, \"Dimensions\": {\"Algorithm\": \"Linear Learner\", \"Host\": \"algo-1\", \"Operation\": \"training\", \"epoch\": 3, \"model\": 5}, \"Metrics\": {\"train_mse_objective\": {\"sum\": 0.17674028992652893, \"count\": 1, \"min\": 0.17674028992652893, \"max\": 0.17674028992652893}}}\u001b[0m\n",
      "\u001b[34m[09/05/2022 09:15:00 INFO 140587301197632] #quality_metric: host=algo-1, epoch=3, train mse_objective <loss>=0.8376435565948487\u001b[0m\n",
      "\u001b[34m[09/05/2022 09:15:00 INFO 140587301197632] #early_stopping_criteria_metric: host=algo-1, epoch=3, criteria=mse_objective, value=0.16918599486351013\u001b[0m\n",
      "\u001b[34m[09/05/2022 09:15:00 INFO 140587301197632] Epoch 3: Loss improved. Updating best model\u001b[0m\n",
      "\u001b[34m[09/05/2022 09:15:00 INFO 140587301197632] Saving model for epoch: 3\u001b[0m\n",
      "\u001b[34m[09/05/2022 09:15:00 INFO 140587301197632] Saved checkpoint to \"/tmp/tmpl_hw9vea/mx-mod-0000.params\"\u001b[0m\n",
      "\u001b[34m[09/05/2022 09:15:00 INFO 140587301197632] #progress_metric: host=algo-1, completed 80.0 % of epochs\u001b[0m\n",
      "\u001b[34m#metrics {\"StartTime\": 1662369300.2275438, \"EndTime\": 1662369300.2625592, \"Dimensions\": {\"Algorithm\": \"Linear Learner\", \"Host\": \"algo-1\", \"Operation\": \"training\", \"epoch\": 3, \"Meta\": \"training_data_iter\"}, \"Metrics\": {\"Total Records Seen\": {\"sum\": 135.0, \"count\": 1, \"min\": 135, \"max\": 135}, \"Total Batches Seen\": {\"sum\": 31.0, \"count\": 1, \"min\": 31, \"max\": 31}, \"Max Records Seen Between Resets\": {\"sum\": 26.0, \"count\": 1, \"min\": 26, \"max\": 26}, \"Max Batches Seen Between Resets\": {\"sum\": 6.0, \"count\": 1, \"min\": 6, \"max\": 6}, \"Reset Count\": {\"sum\": 6.0, \"count\": 1, \"min\": 6, \"max\": 6}, \"Number of Records Since Last Reset\": {\"sum\": 26.0, \"count\": 1, \"min\": 26, \"max\": 26}, \"Number of Batches Since Last Reset\": {\"sum\": 6.0, \"count\": 1, \"min\": 6, \"max\": 6}}}\u001b[0m\n",
      "\u001b[34m[09/05/2022 09:15:00 INFO 140587301197632] #throughput_metric: host=algo-1, train throughput=739.2296961110621 records/second\u001b[0m\n",
      "\u001b[34m[2022-09-05 09:15:00.297] [tensorio] [info] epoch_stats={\"data_pipeline\": \"/opt/ml/input/data/train\", \"epoch\": 12, \"duration\": 34, \"num_examples\": 6, \"num_bytes\": 1248}\u001b[0m\n",
      "\u001b[34m#metrics {\"StartTime\": 1662369300.2979634, \"EndTime\": 1662369300.298013, \"Dimensions\": {\"Algorithm\": \"Linear Learner\", \"Host\": \"algo-1\", \"Operation\": \"training\", \"epoch\": 4, \"model\": 0}, \"Metrics\": {\"train_mse_objective\": {\"sum\": 0.7989655685424805, \"count\": 1, \"min\": 0.7989655685424805, \"max\": 0.7989655685424805}}}\u001b[0m\n",
      "\u001b[34m#metrics {\"StartTime\": 1662369300.298093, \"EndTime\": 1662369300.2981138, \"Dimensions\": {\"Algorithm\": \"Linear Learner\", \"Host\": \"algo-1\", \"Operation\": \"training\", \"epoch\": 4, \"model\": 1}, \"Metrics\": {\"train_mse_objective\": {\"sum\": 0.7871709346771241, \"count\": 1, \"min\": 0.7871709346771241, \"max\": 0.7871709346771241}}}\u001b[0m\n",
      "\u001b[34m#metrics {\"StartTime\": 1662369300.2981665, \"EndTime\": 1662369300.298184, \"Dimensions\": {\"Algorithm\": \"Linear Learner\", \"Host\": \"algo-1\", \"Operation\": \"training\", \"epoch\": 4, \"model\": 2}, \"Metrics\": {\"train_mse_objective\": {\"sum\": 0.7587654876708985, \"count\": 1, \"min\": 0.7587654876708985, \"max\": 0.7587654876708985}}}\u001b[0m\n",
      "\u001b[34m#metrics {\"StartTime\": 1662369300.298242, \"EndTime\": 1662369300.2982593, \"Dimensions\": {\"Algorithm\": \"Linear Learner\", \"Host\": \"algo-1\", \"Operation\": \"training\", \"epoch\": 4, \"model\": 3}, \"Metrics\": {\"train_mse_objective\": {\"sum\": 0.7273245334625245, \"count\": 1, \"min\": 0.7273245334625245, \"max\": 0.7273245334625245}}}\u001b[0m\n",
      "\u001b[34m#metrics {\"StartTime\": 1662369300.2983117, \"EndTime\": 1662369300.2983272, \"Dimensions\": {\"Algorithm\": \"Linear Learner\", \"Host\": \"algo-1\", \"Operation\": \"training\", \"epoch\": 4, \"model\": 4}, \"Metrics\": {\"train_mse_objective\": {\"sum\": 0.11187755584716796, \"count\": 1, \"min\": 0.11187755584716796, \"max\": 0.11187755584716796}}}\u001b[0m\n",
      "\u001b[34m#metrics {\"StartTime\": 1662369300.298375, \"EndTime\": 1662369300.2983909, \"Dimensions\": {\"Algorithm\": \"Linear Learner\", \"Host\": \"algo-1\", \"Operation\": \"training\", \"epoch\": 4, \"model\": 5}, \"Metrics\": {\"train_mse_objective\": {\"sum\": 0.11307619452476501, \"count\": 1, \"min\": 0.11307619452476501, \"max\": 0.11307619452476501}}}\u001b[0m\n",
      "\u001b[34m[09/05/2022 09:15:00 INFO 140587301197632] #quality_metric: host=algo-1, epoch=4, train mse_objective <loss>=0.7989655685424805\u001b[0m\n",
      "\u001b[34m[09/05/2022 09:15:00 INFO 140587301197632] #early_stopping_criteria_metric: host=algo-1, epoch=4, criteria=mse_objective, value=0.11187755584716796\u001b[0m\n",
      "\u001b[34m[09/05/2022 09:15:00 INFO 140587301197632] Epoch 4: Loss improved. Updating best model\u001b[0m\n",
      "\u001b[34m[09/05/2022 09:15:00 INFO 140587301197632] Saving model for epoch: 4\u001b[0m\n",
      "\u001b[34m[09/05/2022 09:15:00 INFO 140587301197632] Saved checkpoint to \"/tmp/tmpdypdb1vn/mx-mod-0000.params\"\u001b[0m\n",
      "\u001b[34m[09/05/2022 09:15:00 INFO 140587301197632] #progress_metric: host=algo-1, completed 100.0 % of epochs\u001b[0m\n",
      "\u001b[34m#metrics {\"StartTime\": 1662369300.2628505, \"EndTime\": 1662369300.3066468, \"Dimensions\": {\"Algorithm\": \"Linear Learner\", \"Host\": \"algo-1\", \"Operation\": \"training\", \"epoch\": 4, \"Meta\": \"training_data_iter\"}, \"Metrics\": {\"Total Records Seen\": {\"sum\": 161.0, \"count\": 1, \"min\": 161, \"max\": 161}, \"Total Batches Seen\": {\"sum\": 37.0, \"count\": 1, \"min\": 37, \"max\": 37}, \"Max Records Seen Between Resets\": {\"sum\": 26.0, \"count\": 1, \"min\": 26, \"max\": 26}, \"Max Batches Seen Between Resets\": {\"sum\": 6.0, \"count\": 1, \"min\": 6, \"max\": 6}, \"Reset Count\": {\"sum\": 7.0, \"count\": 1, \"min\": 7, \"max\": 7}, \"Number of Records Since Last Reset\": {\"sum\": 26.0, \"count\": 1, \"min\": 26, \"max\": 26}, \"Number of Batches Since Last Reset\": {\"sum\": 6.0, \"count\": 1, \"min\": 6, \"max\": 6}}}\u001b[0m\n",
      "\u001b[34m[09/05/2022 09:15:00 INFO 140587301197632] #throughput_metric: host=algo-1, train throughput=591.8820707098118 records/second\u001b[0m\n",
      "\u001b[34m[09/05/2022 09:15:00 WARNING 140587301197632] wait_for_all_workers will not sync workers since the kv store is not running distributed\u001b[0m\n",
      "\u001b[34m[09/05/2022 09:15:00 WARNING 140587301197632] wait_for_all_workers will not sync workers since the kv store is not running distributed\u001b[0m\n",
      "\u001b[34m[2022-09-05 09:15:00.307] [tensorio] [info] epoch_stats={\"data_pipeline\": \"/opt/ml/input/data/train\", \"epoch\": 14, \"duration\": 0, \"num_examples\": 1, \"num_bytes\": 240}\u001b[0m\n",
      "\u001b[34m[2022-09-05 09:15:00.321] [tensorio] [info] epoch_stats={\"data_pipeline\": \"/opt/ml/input/data/train\", \"epoch\": 16, \"duration\": 11, \"num_examples\": 6, \"num_bytes\": 1248}\u001b[0m\n",
      "\u001b[34m[09/05/2022 09:15:00 INFO 140587301197632] #train_score (algo-1) : ('mse_objective', 157338719.69230768)\u001b[0m\n",
      "\u001b[34m[09/05/2022 09:15:00 INFO 140587301197632] #train_score (algo-1) : ('mse', 157338719.69230768)\u001b[0m\n",
      "\u001b[34m[09/05/2022 09:15:00 INFO 140587301197632] #train_score (algo-1) : ('absolute_loss', 10948.19501201923)\u001b[0m\n",
      "\u001b[34m[09/05/2022 09:15:00 INFO 140587301197632] #train_score (algo-1) : ('rmse', 12543.473190959021)\u001b[0m\n",
      "\u001b[34m[09/05/2022 09:15:00 INFO 140587301197632] #train_score (algo-1) : ('r2', 0.8616228469019436)\u001b[0m\n",
      "\u001b[34m[09/05/2022 09:15:00 INFO 140587301197632] #train_score (algo-1) : ('mae', 10948.19501201923)\u001b[0m\n",
      "\u001b[34m[09/05/2022 09:15:00 INFO 140587301197632] #quality_metric: host=algo-1, train mse_objective <loss>=157338719.69230768\u001b[0m\n",
      "\u001b[34m[09/05/2022 09:15:00 INFO 140587301197632] #quality_metric: host=algo-1, train mse <loss>=157338719.69230768\u001b[0m\n",
      "\u001b[34m[09/05/2022 09:15:00 INFO 140587301197632] #quality_metric: host=algo-1, train absolute_loss <loss>=10948.19501201923\u001b[0m\n",
      "\u001b[34m[09/05/2022 09:15:00 INFO 140587301197632] #quality_metric: host=algo-1, train rmse <loss>=12543.473190959021\u001b[0m\n",
      "\u001b[34m[09/05/2022 09:15:00 INFO 140587301197632] #quality_metric: host=algo-1, train r2 <loss>=0.8616228469019436\u001b[0m\n",
      "\u001b[34m[09/05/2022 09:15:00 INFO 140587301197632] #quality_metric: host=algo-1, train mae <loss>=10948.19501201923\u001b[0m\n",
      "\u001b[34m[09/05/2022 09:15:00 INFO 140587301197632] Best model found for hyperparameters: {\"optimizer\": \"adam\", \"learning_rate\": 0.1, \"wd\": 0.0001, \"l1\": 0.0, \"lr_scheduler_step\": 10, \"lr_scheduler_factor\": 0.99, \"lr_scheduler_minimum_lr\": 1e-05}\u001b[0m\n",
      "\u001b[34m[09/05/2022 09:15:00 INFO 140587301197632] Saved checkpoint to \"/tmp/tmp_w3l2ls_/mx-mod-0000.params\"\u001b[0m\n",
      "\u001b[34m[09/05/2022 09:15:00 INFO 140587301197632] Test data is not provided.\u001b[0m\n",
      "\u001b[34m#metrics {\"StartTime\": 1662369299.931129, \"EndTime\": 1662369300.3286788, \"Dimensions\": {\"Algorithm\": \"Linear Learner\", \"Host\": \"algo-1\", \"Operation\": \"training\"}, \"Metrics\": {\"initialize.time\": {\"sum\": 144.22249794006348, \"count\": 1, \"min\": 144.22249794006348, \"max\": 144.22249794006348}, \"epochs\": {\"sum\": 5.0, \"count\": 1, \"min\": 5, \"max\": 5}, \"check_early_stopping.time\": {\"sum\": 6.037473678588867, \"count\": 5, \"min\": 0.9405612945556641, \"max\": 1.4214515686035156}, \"update.time\": {\"sum\": 205.7633399963379, \"count\": 5, \"min\": 31.52632713317871, \"max\": 64.86201286315918}, \"finalize.time\": {\"sum\": 18.0971622467041, \"count\": 1, \"min\": 18.0971622467041, \"max\": 18.0971622467041}, \"setuptime\": {\"sum\": 4.84919548034668, \"count\": 1, \"min\": 4.84919548034668, \"max\": 4.84919548034668}, \"totaltime\": {\"sum\": 610.8958721160889, \"count\": 1, \"min\": 610.8958721160889, \"max\": 610.8958721160889}}}\u001b[0m\n",
      "\n",
      "2022-09-05 09:15:17 Uploading - Uploading generated training model\n",
      "2022-09-05 09:15:37 Completed - Training job completed\n",
      "ProfilerReport-1662369049: NoIssuesFound\n",
      "Training seconds: 183\n",
      "Billable seconds: 183\n"
     ]
    }
   ],
   "source": [
    "linear.set_hyperparameters(feature_dim = 1,\n",
    "                           predictor_type = 'regressor',\n",
    "                           mini_batch_size = 5,\n",
    "                           epochs = 5,\n",
    "                           num_models = 6,\n",
    "                           loss = 'squared_loss')\n",
    "\n",
    "# Now we are ready to pass in the training data from S3 to train the linear learner model\n",
    "s3_train_path = \"s3://sagemaker-learner/salary_prediction/train\"\n",
    "linear.fit({'train': s3_train_path})\n"
   ]
  },
  {
   "cell_type": "markdown",
   "id": "5b4795c6",
   "metadata": {},
   "source": [
    "### Deploying best model"
   ]
  },
  {
   "cell_type": "code",
   "execution_count": 148,
   "id": "d4991e96",
   "metadata": {},
   "outputs": [
    {
     "name": "stdout",
     "output_type": "stream",
     "text": [
      "----------!"
     ]
    }
   ],
   "source": [
    "\n",
    "from sagemaker.predictor import csv_serializer, json_deserializer\n",
    "\n",
    "linear_regressor = linear.deploy(initial_instance_count = 1,\n",
    "                                instance_type = 'ml.m4.xlarge')\n",
    "\n",
    "\n"
   ]
  },
  {
   "cell_type": "code",
   "execution_count": 150,
   "id": "31a50f64",
   "metadata": {},
   "outputs": [
    {
     "data": {
      "text/plain": [
       "dict_keys(['endpoint_name', 'sagemaker_session', 'serializer', 'deserializer', '_endpoint_config_name', '_model_names', '_context'])"
      ]
     },
     "execution_count": 150,
     "metadata": {},
     "output_type": "execute_result"
    }
   ],
   "source": [
    "linear_regressor.__dict__.keys()"
   ]
  },
  {
   "cell_type": "code",
   "execution_count": 152,
   "id": "6cbc4517",
   "metadata": {},
   "outputs": [
    {
     "name": "stderr",
     "output_type": "stream",
     "text": [
      "The csv_serializer has been renamed in sagemaker>=2.\n",
      "See: https://sagemaker.readthedocs.io/en/stable/v2.html for details.\n",
      "The json_deserializer has been renamed in sagemaker>=2.\n",
      "See: https://sagemaker.readthedocs.io/en/stable/v2.html for details.\n"
     ]
    },
    {
     "data": {
      "text/plain": [
       "{'predictions': [{'score': 107335.7890625},\n",
       "  {'score': 51305.6015625},\n",
       "  {'score': 99035.0234375},\n",
       "  {'score': 82433.484375},\n",
       "  {'score': 59606.37109375},\n",
       "  {'score': 117711.75},\n",
       "  {'score': 71019.9296875},\n",
       "  {'score': 50268.0078125},\n",
       "  {'score': 41967.2421875}]}"
      ]
     },
     "execution_count": 152,
     "metadata": {},
     "output_type": "execute_result"
    }
   ],
   "source": [
    "\n",
    "linear_regressor.serializer = csv_serializer\n",
    "linear_regressor.deserializer = json_deserializer\n",
    "\n",
    "# making prediction on the test data\n",
    "\n",
    "result = linear_regressor.predict(X_test)\n",
    "result\n"
   ]
  },
  {
   "cell_type": "code",
   "execution_count": 156,
   "id": "7ffa3f19",
   "metadata": {},
   "outputs": [
    {
     "data": {
      "image/png": "[encoded data removed]",
      "text/plain": [
       "<Figure size 432x288 with 1 Axes>"
      ]
     },
     "metadata": {
      "needs_background": "light"
     },
     "output_type": "display_data"
    }
   ],
   "source": [
    "predictions = np.array([r['score'] for r in result['predictions']])\n",
    "# VISUALIZE TEST SET RESULTS\n",
    "plt.scatter(X_test, y_test, color = 'gray')\n",
    "plt.scatter(X_test, predictions, color = 'blue')\n",
    "plt.plot(X_test, predictions, color = 'red')\n",
    "plt.xlabel('Years of Experience (Testing Dataset)')\n",
    "plt.ylabel('salary')\n",
    "plt.title('Salary vs. Years of Experience')\n",
    "plt.show()"
   ]
  },
  {
   "cell_type": "code",
   "execution_count": 161,
   "id": "6f0546c1",
   "metadata": {},
   "outputs": [],
   "source": [
    "# Delete the end-point\n",
    "linear_regressor.delete_endpoint()"
   ]
  },
  {
   "cell_type": "code",
   "execution_count": null,
   "id": "71f1d8e2",
   "metadata": {},
   "outputs": [],
   "source": []
  }
 ],
 "metadata": {
  "kernelspec": {
   "display_name": "conda_python3",
   "language": "python",
   "name": "conda_python3"
  },
  "language_info": {
   "codemirror_mode": {
    "name": "ipython",
    "version": 3
   },
   "file_extension": ".py",
   "mimetype": "text/x-python",
   "name": "python",
   "nbconvert_exporter": "python",
   "pygments_lexer": "ipython3",
   "version": "3.8.12"
  }
 },
 "nbformat": 4,
 "nbformat_minor": 5
}

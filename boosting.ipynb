{
 "cells": [
  {
   "cell_type": "code",
   "execution_count": 1,
   "id": "0c6f73d2",
   "metadata": {},
   "outputs": [],
   "source": [
    "# import libraries\n",
    "\n",
    "import pandas as pd\n",
    "import numpy as np\n",
    "import seaborn as sns\n",
    "import matplotlib.pyplot as plt\n",
    "import warnings\n",
    "import boto3\n",
    "warnings.simplefilter('ignore')"
   ]
  },
  {
   "cell_type": "markdown",
   "id": "a7b4c6f7",
   "metadata": {},
   "source": [
    "### About data\n",
    "\n",
    "\n",
    "Aim of the problem is to detect the presence or absence of cardiovascular disease in person based on the given features.\n",
    "Features available are:\n",
    "\n",
    "\n",
    "- Age | Objective Feature | age | int (days)\n",
    "- Height | Objective Feature | height | int (cm) |\n",
    "- Weight | Objective Feature | weight | float (kg) |\n",
    "- Gender | Objective Feature | gender | categorical code |\n",
    "- Systolic blood pressure | Examination Feature | ap_hi | int |\n",
    "- Diastolic blood pressure | Examination Feature | ap_lo | int |\n",
    "- Cholesterol | Examination Feature | cholesterol | 1: normal, 2: above normal, 3: well above normal |\n",
    "- Glucose | Examination Feature | gluc | 1: normal, 2: above normal, 3: well above normal |\n",
    "- Smoking | Subjective Feature | smoke | binary |\n",
    "- Alcohol intake | Subjective Feature | alco | binary |\n",
    "- Physical activity | Subjective Feature | active | binary |\n",
    "- Presence or absence of cardiovascular disease | Target Variable | cardio | binary |\n",
    "\n",
    "Note that:\n",
    "- Objective: factual information;\n",
    "- Examination: results of medical examination;\n",
    "- Subjective: information given by the patient.\n",
    "\n",
    "Data Source:https://www.kaggle.com/sulianova/cardiovascular-disease-dataset"
   ]
  },
  {
   "cell_type": "markdown",
   "id": "055785af",
   "metadata": {},
   "source": [
    "**Download data**"
   ]
  },
  {
   "cell_type": "code",
   "execution_count": 2,
   "id": "01adbd1d",
   "metadata": {},
   "outputs": [
    {
     "name": "stdout",
     "output_type": "stream",
     "text": [
      "File downloaded\n"
     ]
    }
   ],
   "source": [
    "# Get the service client\n",
    "s3 = boto3.client('s3')\n",
    "bucket_name = 'sagemaker-learner'\n",
    "folder_path = 'data'\n",
    "data_uri = \"s3://sagemaker-learner/data/cardio_train.csv\"\n",
    "\n",
    "try: \n",
    "    s3.download_file(\"sagemaker-learner\", \"data/cardio.csv\", \"cardio.csv\")\n",
    "    print(f\"File downloaded\")\n",
    "except:\n",
    "    print(f\"Error in file download\")"
   ]
  },
  {
   "cell_type": "code",
   "execution_count": 3,
   "id": "774eedd3",
   "metadata": {},
   "outputs": [
    {
     "name": "stdout",
     "output_type": "stream",
     "text": [
      "(70000, 12)\n"
     ]
    },
    {
     "data": {
      "text/html": [
       "<div>\n",
       "<style scoped>\n",
       "    .dataframe tbody tr th:only-of-type {\n",
       "        vertical-align: middle;\n",
       "    }\n",
       "\n",
       "    .dataframe tbody tr th {\n",
       "        vertical-align: top;\n",
       "    }\n",
       "\n",
       "    .dataframe thead th {\n",
       "        text-align: right;\n",
       "    }\n",
       "</style>\n",
       "<table border=\"1\" class=\"dataframe\">\n",
       "  <thead>\n",
       "    <tr style=\"text-align: right;\">\n",
       "      <th></th>\n",
       "      <th>age</th>\n",
       "      <th>gender</th>\n",
       "      <th>height</th>\n",
       "      <th>weight</th>\n",
       "      <th>ap_hi</th>\n",
       "      <th>ap_lo</th>\n",
       "      <th>cholesterol</th>\n",
       "      <th>gluc</th>\n",
       "      <th>smoke</th>\n",
       "      <th>alco</th>\n",
       "      <th>active</th>\n",
       "      <th>cardio</th>\n",
       "    </tr>\n",
       "  </thead>\n",
       "  <tbody>\n",
       "    <tr>\n",
       "      <th>0</th>\n",
       "      <td>18393</td>\n",
       "      <td>2</td>\n",
       "      <td>168</td>\n",
       "      <td>62.0</td>\n",
       "      <td>110</td>\n",
       "      <td>80</td>\n",
       "      <td>1</td>\n",
       "      <td>1</td>\n",
       "      <td>0</td>\n",
       "      <td>0</td>\n",
       "      <td>1</td>\n",
       "      <td>0</td>\n",
       "    </tr>\n",
       "    <tr>\n",
       "      <th>1</th>\n",
       "      <td>20228</td>\n",
       "      <td>1</td>\n",
       "      <td>156</td>\n",
       "      <td>85.0</td>\n",
       "      <td>140</td>\n",
       "      <td>90</td>\n",
       "      <td>3</td>\n",
       "      <td>1</td>\n",
       "      <td>0</td>\n",
       "      <td>0</td>\n",
       "      <td>1</td>\n",
       "      <td>1</td>\n",
       "    </tr>\n",
       "    <tr>\n",
       "      <th>2</th>\n",
       "      <td>18857</td>\n",
       "      <td>1</td>\n",
       "      <td>165</td>\n",
       "      <td>64.0</td>\n",
       "      <td>130</td>\n",
       "      <td>70</td>\n",
       "      <td>3</td>\n",
       "      <td>1</td>\n",
       "      <td>0</td>\n",
       "      <td>0</td>\n",
       "      <td>0</td>\n",
       "      <td>1</td>\n",
       "    </tr>\n",
       "  </tbody>\n",
       "</table>\n",
       "</div>"
      ],
      "text/plain": [
       "     age  gender  height  weight  ap_hi  ap_lo  cholesterol  gluc  smoke  \\\n",
       "0  18393       2     168    62.0    110     80            1     1      0   \n",
       "1  20228       1     156    85.0    140     90            3     1      0   \n",
       "2  18857       1     165    64.0    130     70            3     1      0   \n",
       "\n",
       "   alco  active  cardio  \n",
       "0     0       1       0  \n",
       "1     0       1       1  \n",
       "2     0       0       1  "
      ]
     },
     "execution_count": 3,
     "metadata": {},
     "output_type": "execute_result"
    }
   ],
   "source": [
    "df = pd.read_csv('cardio.csv',sep=\";\")\n",
    "df = df.drop(columns=['id'])\n",
    "print(df.shape)\n",
    "df.head(3)"
   ]
  },
  {
   "cell_type": "code",
   "execution_count": 4,
   "id": "62b1e8e5",
   "metadata": {},
   "outputs": [],
   "source": [
    "# feature engineering on age\n",
    "df['age'] = df['age']/365\n"
   ]
  },
  {
   "cell_type": "markdown",
   "id": "e29125bf",
   "metadata": {},
   "source": [
    "**Train - validation - test split**"
   ]
  },
  {
   "cell_type": "code",
   "execution_count": 7,
   "id": "d6c81745",
   "metadata": {},
   "outputs": [
    {
     "data": {
      "text/plain": [
       "((42000, 11), (14000, 11), (14000, 11))"
      ]
     },
     "execution_count": 7,
     "metadata": {},
     "output_type": "execute_result"
    }
   ],
   "source": [
    "from sklearn.model_selection import train_test_split\n",
    "\n",
    "X = df.drop(columns=['cardio'])\n",
    "y = df['cardio']\n",
    "\n",
    "X_train,X_test,y_train,y_test = train_test_split(X,y,stratify=y,random_state=42,test_size=0.4)\n",
    "X_test,X_val,y_test,y_val = train_test_split(X_test,y_test,stratify=y_test,random_state=42,test_size=0.5)\n",
    "\n",
    "X_train.shape,X_test.shape,X_val.shape"
   ]
  },
  {
   "cell_type": "code",
   "execution_count": 14,
   "id": "b87f9586",
   "metadata": {},
   "outputs": [
    {
     "data": {
      "text/plain": [
       "((42000, 12), (14000, 12), (14000, 12))"
      ]
     },
     "execution_count": 14,
     "metadata": {},
     "output_type": "execute_result"
    }
   ],
   "source": [
    "df_train = pd.concat([y_train.reset_index(drop=True),X_train.reset_index(drop=True)],axis=1)\n",
    "df_val = pd.concat([y_val.reset_index(drop=True),X_val.reset_index(drop=True)],axis=1)\n",
    "df_test = pd.concat([y_test.reset_index(drop=True),X_test.reset_index(drop=True)],axis=1)\n",
    "df_train.shape,df_val.shape,df_test.shape"
   ]
  },
  {
   "cell_type": "markdown",
   "id": "5557c4d8",
   "metadata": {},
   "source": [
    "## Xgboost model - Training"
   ]
  },
  {
   "cell_type": "markdown",
   "id": "1ec8eee0",
   "metadata": {},
   "source": [
    "lets save the data to s3"
   ]
  },
  {
   "cell_type": "code",
   "execution_count": 18,
   "id": "f4bfd4d0",
   "metadata": {},
   "outputs": [
    {
     "name": "stdout",
     "output_type": "stream",
     "text": [
      "None\n",
      "None\n",
      "None\n"
     ]
    }
   ],
   "source": [
    "\n",
    "\n",
    "\n",
    "# since zgboost doesnt support bytes data we will upload csv\n",
    "df_train.to_csv('train.csv',header = False, index = False)\n",
    "df_val.to_csv('validation.csv',header = False, index = False)\n",
    "df_test.to_csv('test.csv',header = False, index = False)\n",
    "\n",
    "\n",
    "\n",
    "bucket = \"sagemaker-learner\"\n",
    "s3_client = boto3.client('s3')\n",
    "\n",
    "\n",
    "key_path = \"cardio_vascular/train.csv\"\n",
    "with open('train.csv','rb') as f:\n",
    "    response = s3_client.upload_file('train.csv', bucket, key_path)\n",
    "    print(response)\n",
    "    \n",
    "\n",
    "key_path = \"cardio_vascular/validation.csv\"\n",
    "with open('validation.csv','rb') as f:\n",
    "    response = s3_client.upload_file('validation.csv', bucket, key_path)\n",
    "    print(response)    \n",
    "\n",
    "\n",
    "key_path = \"cardio_vascular/test.csv\"\n",
    "with open('test.csv','rb') as f:\n",
    "    response = s3_client.upload_file('test.csv', bucket, key_path)\n",
    "    print(response)"
   ]
  },
  {
   "cell_type": "markdown",
   "id": "86dfd4c2",
   "metadata": {},
   "source": [
    "**Define model**\n",
    "\n",
    "ref: https://docs.aws.amazon.com/sagemaker/latest/dg/xgboost.html\n",
    "\n",
    "We can use xgboost in 2 ways\n",
    "\n",
    "1. Use xgboost as framework\n",
    "2. Use xgboost as built in algorithm(here we use this)"
   ]
  },
  {
   "cell_type": "code",
   "execution_count": 26,
   "id": "b0ee22aa",
   "metadata": {},
   "outputs": [
    {
     "name": "stderr",
     "output_type": "stream",
     "text": [
      "The method get_image_uri has been renamed in sagemaker>=2.\n",
      "See: https://sagemaker.readthedocs.io/en/stable/v2.html for details.\n",
      "train_instance_count has been renamed in sagemaker>=2.\n",
      "See: https://sagemaker.readthedocs.io/en/stable/v2.html for details.\n",
      "train_instance_type has been renamed in sagemaker>=2.\n",
      "See: https://sagemaker.readthedocs.io/en/stable/v2.html for details.\n"
     ]
    }
   ],
   "source": [
    "# initialize the model\n",
    "import sagemaker\n",
    "import boto3\n",
    "from sagemaker.amazon.amazon_estimator import get_image_uri\n",
    "\n",
    "#initialize session\n",
    "sagemaker_session = sagemaker.Session()\n",
    "# initialize container\n",
    "region_name = boto3.Session().region_name\n",
    "container = get_image_uri(region_name,'xgboost','1.2-2')\n",
    "# role\n",
    "role = sagemaker.get_execution_role()\n",
    "\n",
    "# define output_location \n",
    "output_model_location = \"s3://sagemaker-learner/cardio_vascular/\"\n",
    "\n",
    "\n",
    "Xgboost_classifier = sagemaker.estimator.Estimator(container,\n",
    "                                       role,\n",
    "                                       train_instance_count=1, \n",
    "                                       train_instance_type='ml.m4.xlarge',\n",
    "                                       output_path=output_model_location,\n",
    "                                       sagemaker_session=sagemaker_session)\n",
    "\n",
    "\n",
    "\n",
    "# hyper params\n",
    "Xgboost_classifier.set_hyperparameters(max_depth=3,\n",
    "                           objective='multi:softmax',\n",
    "                           num_class= 2,\n",
    "                           eta = 0.5,\n",
    "                           num_round = 50\n",
    "                           )\n"
   ]
  },
  {
   "cell_type": "code",
   "execution_count": 27,
   "id": "bf2b5b21",
   "metadata": {},
   "outputs": [],
   "source": [
    "from sagemaker.inputs import TrainingInput\n",
    "# define the data type and paths to the training and validation datasets\n",
    "content_type = \"csv\"\n",
    "train_input = TrainingInput(\"s3://sagemaker-learner/cardio_vascular/train.csv\",content_type=content_type)\n",
    "validation_input = TrainingInput(\"s3://sagemaker-learner/cardio_vascular/validation\",content_type=content_type)"
   ]
  },
  {
   "cell_type": "code",
   "execution_count": null,
   "id": "b659ece1",
   "metadata": {},
   "outputs": [
    {
     "name": "stdout",
     "output_type": "stream",
     "text": [
      "2022-09-06 16:44:35 Starting - Starting the training job...ProfilerReport-1662482675: InProgress\n",
      "...\n",
      "2022-09-06 16:45:21 Starting - Preparing the instances for training......\n",
      "2022-09-06 16:46:32 Downloading - Downloading input data......\n",
      "2022-09-06 16:47:19 Training - Downloading the training image......\n",
      "2022-09-06 16:48:28 Training - Training image download completed. Training in progress..\u001b[34m[2022-09-06 16:48:33.819 ip-10-0-217-101.ec2.internal:1 INFO utils.py:27] RULE_JOB_STOP_SIGNAL_FILENAME: None\u001b[0m\n",
      "\u001b[34m[2022-09-06:16:48:33:INFO] Imported framework sagemaker_xgboost_container.training\u001b[0m\n",
      "\u001b[34m[2022-09-06:16:48:33:INFO] Failed to parse hyperparameter objective value multi:softmax to Json.\u001b[0m\n",
      "\u001b[34mReturning the value itself\u001b[0m\n",
      "\u001b[34m[2022-09-06:16:48:33:INFO] No GPUs detected (normal if no gpus installed)\u001b[0m\n",
      "\u001b[34m[2022-09-06:16:48:33:INFO] Running XGBoost Sagemaker in algorithm mode\u001b[0m\n",
      "\u001b[34m[2022-09-06:16:48:33:INFO] Determined delimiter of CSV input is ','\u001b[0m\n",
      "\u001b[34m[2022-09-06:16:48:33:INFO] Determined delimiter of CSV input is ','\u001b[0m\n",
      "\u001b[34m[2022-09-06:16:48:33:INFO] Determined delimiter of CSV input is ','\u001b[0m\n",
      "\u001b[34m[2022-09-06:16:48:33:INFO] Determined delimiter of CSV input is ','\u001b[0m\n",
      "\u001b[34m[2022-09-06:16:48:34:INFO] Single node training.\u001b[0m\n",
      "\u001b[34m[2022-09-06:16:48:34:INFO] Train matrix has 42000 rows and 11 columns\u001b[0m\n",
      "\u001b[34m[2022-09-06:16:48:34:INFO] Validation matrix has 14000 rows\u001b[0m\n",
      "\u001b[34m[2022-09-06 16:48:34.018 ip-10-0-217-101.ec2.internal:1 INFO json_config.py:91] Creating hook from json_config at /opt/ml/input/config/debughookconfig.json.\u001b[0m\n",
      "\u001b[34m[2022-09-06 16:48:34.019 ip-10-0-217-101.ec2.internal:1 INFO hook.py:201] tensorboard_dir has not been set for the hook. SMDebug will not be exporting tensorboard summaries.\u001b[0m\n",
      "\u001b[34m[2022-09-06 16:48:34.019 ip-10-0-217-101.ec2.internal:1 INFO profiler_config_parser.py:102] User has disabled profiler.\u001b[0m\n",
      "\u001b[34m[2022-09-06 16:48:34.020 ip-10-0-217-101.ec2.internal:1 INFO hook.py:255] Saving to /opt/ml/output/tensors\u001b[0m\n",
      "\u001b[34m[2022-09-06 16:48:34.020 ip-10-0-217-101.ec2.internal:1 INFO state_store.py:77] The checkpoint config file /opt/ml/input/config/checkpointconfig.json does not exist.\u001b[0m\n",
      "\u001b[34m[2022-09-06:16:48:34:INFO] Debug hook created from config\u001b[0m\n",
      "\u001b[34m[0]#011train-merror:0.27374#011validation-merror:0.27664\u001b[0m\n",
      "\u001b[34m[2022-09-06 16:48:34.066 ip-10-0-217-101.ec2.internal:1 INFO hook.py:423] Monitoring the collections: metrics\u001b[0m\n",
      "\u001b[34m[2022-09-06 16:48:34.070 ip-10-0-217-101.ec2.internal:1 INFO hook.py:486] Hook is writing from the hook with pid: 1\u001b[0m\n",
      "\u001b[34m[1]#011train-merror:0.27133#011validation-merror:0.27629\u001b[0m\n",
      "\u001b[34m[2]#011train-merror:0.27138#011validation-merror:0.27829\u001b[0m\n",
      "\u001b[34m[3]#011train-merror:0.26693#011validation-merror:0.27329\u001b[0m\n",
      "\u001b[34m[4]#011train-merror:0.26683#011validation-merror:0.27286\u001b[0m\n",
      "\u001b[34m[5]#011train-merror:0.26600#011validation-merror:0.27264\u001b[0m\n",
      "\u001b[34m[6]#011train-merror:0.26355#011validation-merror:0.27107\u001b[0m\n",
      "\u001b[34m[7]#011train-merror:0.26298#011validation-merror:0.27050\u001b[0m\n",
      "\u001b[34m[8]#011train-merror:0.26267#011validation-merror:0.27093\u001b[0m\n",
      "\u001b[34m[9]#011train-merror:0.26198#011validation-merror:0.26929\u001b[0m\n",
      "\u001b[34m[10]#011train-merror:0.26167#011validation-merror:0.26936\u001b[0m\n",
      "\u001b[34m[11]#011train-merror:0.26121#011validation-merror:0.26879\u001b[0m\n",
      "\u001b[34m[12]#011train-merror:0.26057#011validation-merror:0.26743\u001b[0m\n",
      "\u001b[34m[13]#011train-merror:0.26024#011validation-merror:0.26771\u001b[0m\n",
      "\u001b[34m[14]#011train-merror:0.26038#011validation-merror:0.26800\u001b[0m\n",
      "\u001b[34m[15]#011train-merror:0.26026#011validation-merror:0.26800\u001b[0m\n",
      "\u001b[34m[16]#011train-merror:0.26014#011validation-merror:0.26793\u001b[0m\n",
      "\u001b[34m[17]#011train-merror:0.25986#011validation-merror:0.26743\u001b[0m\n",
      "\u001b[34m[18]#011train-merror:0.25955#011validation-merror:0.26771\u001b[0m\n",
      "\u001b[34m[19]#011train-merror:0.25933#011validation-merror:0.26779\u001b[0m\n",
      "\u001b[34m[20]#011train-merror:0.25902#011validation-merror:0.26800\u001b[0m\n",
      "\u001b[34m[21]#011train-merror:0.25867#011validation-merror:0.26821\u001b[0m\n",
      "\u001b[34m[22]#011train-merror:0.25821#011validation-merror:0.26814\u001b[0m\n",
      "\u001b[34m[23]#011train-merror:0.25836#011validation-merror:0.26821\u001b[0m\n",
      "\u001b[34m[24]#011train-merror:0.25836#011validation-merror:0.26836\u001b[0m\n",
      "\u001b[34m[25]#011train-merror:0.25831#011validation-merror:0.26850\u001b[0m\n",
      "\u001b[34m[26]#011train-merror:0.25836#011validation-merror:0.26836\u001b[0m\n",
      "\u001b[34m[27]#011train-merror:0.25826#011validation-merror:0.26836\u001b[0m\n",
      "\u001b[34m[28]#011train-merror:0.25800#011validation-merror:0.26836\u001b[0m\n",
      "\u001b[34m[29]#011train-merror:0.25764#011validation-merror:0.26864\u001b[0m\n",
      "\u001b[34m[30]#011train-merror:0.25748#011validation-merror:0.26850\u001b[0m\n",
      "\u001b[34m[31]#011train-merror:0.25769#011validation-merror:0.26836\u001b[0m\n",
      "\u001b[34m[32]#011train-merror:0.25745#011validation-merror:0.26843\u001b[0m\n",
      "\u001b[34m[33]#011train-merror:0.25724#011validation-merror:0.26800\u001b[0m\n",
      "\u001b[34m[34]#011train-merror:0.25724#011validation-merror:0.26793\u001b[0m\n",
      "\u001b[34m[35]#011train-merror:0.25717#011validation-merror:0.26793\u001b[0m\n",
      "\u001b[34m[36]#011train-merror:0.25702#011validation-merror:0.26814\u001b[0m\n",
      "\u001b[34m[37]#011train-merror:0.25690#011validation-merror:0.26829\u001b[0m\n",
      "\u001b[34m[38]#011train-merror:0.25681#011validation-merror:0.26836\u001b[0m\n",
      "\u001b[34m[39]#011train-merror:0.25598#011validation-merror:0.26893\u001b[0m\n",
      "\u001b[34m[40]#011train-merror:0.25579#011validation-merror:0.26929\u001b[0m\n",
      "\u001b[34m[41]#011train-merror:0.25631#011validation-merror:0.26921\u001b[0m\n",
      "\u001b[34m[42]#011train-merror:0.25619#011validation-merror:0.26900\u001b[0m\n",
      "\u001b[34m[43]#011train-merror:0.25626#011validation-merror:0.26943\u001b[0m\n",
      "\u001b[34m[44]#011train-merror:0.25629#011validation-merror:0.26936\u001b[0m\n",
      "\u001b[34m[45]#011train-merror:0.25602#011validation-merror:0.26929\u001b[0m\n",
      "\u001b[34m[46]#011train-merror:0.25600#011validation-merror:0.26929\u001b[0m\n",
      "\u001b[34m[47]#011train-merror:0.25595#011validation-merror:0.26914\u001b[0m\n",
      "\u001b[34m[48]#011train-merror:0.25576#011validation-merror:0.26914\u001b[0m\n",
      "\u001b[34m[49]#011train-merror:0.25571#011validation-merror:0.26907\u001b[0m\n",
      "\n",
      "2022-09-06 16:49:00 Uploading - Uploading generated training model\n",
      "2022-09-06 16:49:00 Completed - Training job completed\n",
      "Training seconds: 148\n",
      "Billable seconds: 148\n"
     ]
    }
   ],
   "source": [
    "# execute the XGBoost training job\n",
    "Xgboost_classifier.fit({'train': train_input, 'validation': validation_input})"
   ]
  },
  {
   "cell_type": "markdown",
   "id": "02c70fb5",
   "metadata": {},
   "source": [
    "## Deploy XGboost as endpoint\n",
    "facts to consider\n",
    "\n",
    "1. environment - within sagemaker or outside sagemaker\n",
    "2. Methods to invok - api call or s3 trigger\n",
    "3. Data type based on methods - csv or json"
   ]
  },
  {
   "cell_type": "code",
   "execution_count": 48,
   "id": "39caa268",
   "metadata": {},
   "outputs": [
    {
     "name": "stdout",
     "output_type": "stream",
     "text": [
      "-------!"
     ]
    }
   ],
   "source": [
    "from sagemaker.serializers import CSVSerializer\n",
    "\n",
    "# Deploy the model to perfrom inference \n",
    "\n",
    "xgboost_endpoint = Xgboost_classifier.deploy(initial_instance_count = 1,\n",
    "                                          instance_type = 'ml.m4.xlarge',serializer=CSVSerializer())\n"
   ]
  },
  {
   "cell_type": "code",
   "execution_count": 49,
   "id": "80d6e1ad",
   "metadata": {},
   "outputs": [
    {
     "data": {
      "text/plain": [
       "'sagemaker-xgboost-2022-09-06-17-11-34-041'"
      ]
     },
     "execution_count": 49,
     "metadata": {},
     "output_type": "execute_result"
    }
   ],
   "source": [
    "xgboost_endpoint.endpoint_name"
   ]
  },
  {
   "cell_type": "code",
   "execution_count": 50,
   "id": "1e8afdf8",
   "metadata": {},
   "outputs": [
    {
     "data": {
      "text/html": [
       "<div>\n",
       "<style scoped>\n",
       "    .dataframe tbody tr th:only-of-type {\n",
       "        vertical-align: middle;\n",
       "    }\n",
       "\n",
       "    .dataframe tbody tr th {\n",
       "        vertical-align: top;\n",
       "    }\n",
       "\n",
       "    .dataframe thead th {\n",
       "        text-align: right;\n",
       "    }\n",
       "</style>\n",
       "<table border=\"1\" class=\"dataframe\">\n",
       "  <thead>\n",
       "    <tr style=\"text-align: right;\">\n",
       "      <th></th>\n",
       "      <th>1</th>\n",
       "      <th>2</th>\n",
       "      <th>3</th>\n",
       "      <th>4</th>\n",
       "      <th>5</th>\n",
       "      <th>6</th>\n",
       "      <th>7</th>\n",
       "      <th>8</th>\n",
       "      <th>9</th>\n",
       "      <th>10</th>\n",
       "      <th>11</th>\n",
       "    </tr>\n",
       "  </thead>\n",
       "  <tbody>\n",
       "    <tr>\n",
       "      <th>0</th>\n",
       "      <td>47.463014</td>\n",
       "      <td>1</td>\n",
       "      <td>150</td>\n",
       "      <td>62.0</td>\n",
       "      <td>120</td>\n",
       "      <td>80</td>\n",
       "      <td>1</td>\n",
       "      <td>1</td>\n",
       "      <td>0</td>\n",
       "      <td>0</td>\n",
       "      <td>1</td>\n",
       "    </tr>\n",
       "    <tr>\n",
       "      <th>1</th>\n",
       "      <td>39.980822</td>\n",
       "      <td>1</td>\n",
       "      <td>161</td>\n",
       "      <td>87.0</td>\n",
       "      <td>160</td>\n",
       "      <td>80</td>\n",
       "      <td>3</td>\n",
       "      <td>3</td>\n",
       "      <td>0</td>\n",
       "      <td>0</td>\n",
       "      <td>0</td>\n",
       "    </tr>\n",
       "    <tr>\n",
       "      <th>2</th>\n",
       "      <td>45.709589</td>\n",
       "      <td>2</td>\n",
       "      <td>156</td>\n",
       "      <td>62.0</td>\n",
       "      <td>110</td>\n",
       "      <td>70</td>\n",
       "      <td>1</td>\n",
       "      <td>1</td>\n",
       "      <td>1</td>\n",
       "      <td>1</td>\n",
       "      <td>1</td>\n",
       "    </tr>\n",
       "    <tr>\n",
       "      <th>3</th>\n",
       "      <td>49.786301</td>\n",
       "      <td>2</td>\n",
       "      <td>175</td>\n",
       "      <td>79.0</td>\n",
       "      <td>150</td>\n",
       "      <td>110</td>\n",
       "      <td>1</td>\n",
       "      <td>1</td>\n",
       "      <td>1</td>\n",
       "      <td>0</td>\n",
       "      <td>1</td>\n",
       "    </tr>\n",
       "    <tr>\n",
       "      <th>4</th>\n",
       "      <td>52.350685</td>\n",
       "      <td>2</td>\n",
       "      <td>175</td>\n",
       "      <td>68.0</td>\n",
       "      <td>140</td>\n",
       "      <td>80</td>\n",
       "      <td>1</td>\n",
       "      <td>1</td>\n",
       "      <td>0</td>\n",
       "      <td>0</td>\n",
       "      <td>1</td>\n",
       "    </tr>\n",
       "  </tbody>\n",
       "</table>\n",
       "</div>"
      ],
      "text/plain": [
       "          1   2    3     4    5    6   7   8   9   10  11\n",
       "0  47.463014   1  150  62.0  120   80   1   1   0   0   1\n",
       "1  39.980822   1  161  87.0  160   80   3   3   0   0   0\n",
       "2  45.709589   2  156  62.0  110   70   1   1   1   1   1\n",
       "3  49.786301   2  175  79.0  150  110   1   1   1   0   1\n",
       "4  52.350685   2  175  68.0  140   80   1   1   0   0   1"
      ]
     },
     "execution_count": 50,
     "metadata": {},
     "output_type": "execute_result"
    }
   ],
   "source": [
    "df_test = pd.read_csv('test.csv',header=None)\n",
    "df_test = df_test.drop(columns=[0])\n",
    "df_test.head()"
   ]
  },
  {
   "cell_type": "code",
   "execution_count": 51,
   "id": "2fd51941",
   "metadata": {},
   "outputs": [],
   "source": [
    "from sagemaker.serializers import CSVSerializer\n",
    "\n",
    "test_data_serialized = CSVSerializer().serialize(data=df_test.values)"
   ]
  },
  {
   "cell_type": "code",
   "execution_count": 60,
   "id": "8e387c68",
   "metadata": {},
   "outputs": [
    {
     "data": {
      "text/plain": [
       "[0.0, 1.0, 0.0, 1.0, 1.0]"
      ]
     },
     "execution_count": 60,
     "metadata": {},
     "output_type": "execute_result"
    }
   ],
   "source": [
    "# test_data = df_test.values\n",
    "out = xgboost_endpoint.predict(data=test_data_serialized).decode('utf-8')\n",
    "prediction = [eval(i) for i in out.split(\"\\n\")[:-1]]\n",
    "prediction[0:5]"
   ]
  },
  {
   "cell_type": "code",
   "execution_count": 62,
   "id": "e6db24f8",
   "metadata": {},
   "outputs": [
    {
     "data": {
      "image/png": "[encoded data removed]",
      "text/plain": [
       "<Figure size 432x288 with 2 Axes>"
      ]
     },
     "metadata": {
      "needs_background": "light"
     },
     "output_type": "display_data"
    }
   ],
   "source": [
    "from sklearn.metrics import roc_auc_score,auc,confusion_matrix,roc_curve\n",
    "\n",
    "\n",
    "y_test_pred = prediction\n",
    "\n",
    "cm = confusion_matrix(y_test, y_test_pred)\n",
    "plt.figure()\n",
    "plt.title(\"Test\")\n",
    "sns.heatmap(cm, annot=True,fmt='g')\n",
    "plt.xlabel(\"Predicted\")\n",
    "plt.ylabel(\"Actual\")\n",
    "plt.show()\n",
    "\n"
   ]
  },
  {
   "cell_type": "code",
   "execution_count": 63,
   "id": "99a2300e",
   "metadata": {},
   "outputs": [],
   "source": [
    "xgboost_endpoint.delete_endpoint()"
   ]
  },
  {
   "cell_type": "code",
   "execution_count": null,
   "id": "23c1465a",
   "metadata": {},
   "outputs": [],
   "source": []
  }
 ],
 "metadata": {
  "kernelspec": {
   "display_name": "conda_python3",
   "language": "python",
   "name": "conda_python3"
  },
  "language_info": {
   "codemirror_mode": {
    "name": "ipython",
    "version": 3
   },
   "file_extension": ".py",
   "mimetype": "text/x-python",
   "name": "python",
   "nbconvert_exporter": "python",
   "pygments_lexer": "ipython3",
   "version": "3.8.12"
  }
 },
 "nbformat": 4,
 "nbformat_minor": 5
}

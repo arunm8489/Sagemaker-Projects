{
 "cells": [
  {
   "cell_type": "code",
   "execution_count": 48,
   "id": "5a2b4e75",
   "metadata": {},
   "outputs": [],
   "source": [
    "# import libraries\n",
    "\n",
    "import pandas as pd\n",
    "import numpy as np\n",
    "import seaborn as sns\n",
    "import matplotlib.pyplot as plt\n",
    "import warnings\n",
    "import boto3\n",
    "warnings.simplefilter('ignore')"
   ]
  },
  {
   "cell_type": "markdown",
   "id": "f35b02ca",
   "metadata": {},
   "source": [
    "### About data\n",
    "\n",
    "\n",
    "Aim of the problem is to detect the presence or absence of cardiovascular disease in person based on the given features.\n",
    "Features available are:\n",
    "\n",
    "\n",
    "- Age | Objective Feature | age | int (days)\n",
    "- Height | Objective Feature | height | int (cm) |\n",
    "- Weight | Objective Feature | weight | float (kg) |\n",
    "- Gender | Objective Feature | gender | categorical code |\n",
    "- Systolic blood pressure | Examination Feature | ap_hi | int |\n",
    "- Diastolic blood pressure | Examination Feature | ap_lo | int |\n",
    "- Cholesterol | Examination Feature | cholesterol | 1: normal, 2: above normal, 3: well above normal |\n",
    "- Glucose | Examination Feature | gluc | 1: normal, 2: above normal, 3: well above normal |\n",
    "- Smoking | Subjective Feature | smoke | binary |\n",
    "- Alcohol intake | Subjective Feature | alco | binary |\n",
    "- Physical activity | Subjective Feature | active | binary |\n",
    "- Presence or absence of cardiovascular disease | Target Variable | cardio | binary |\n",
    "\n",
    "Note that:\n",
    "- Objective: factual information;\n",
    "- Examination: results of medical examination;\n",
    "- Subjective: information given by the patient.\n",
    "\n",
    "Data Source:https://www.kaggle.com/sulianova/cardiovascular-disease-dataset"
   ]
  },
  {
   "cell_type": "markdown",
   "id": "70122c5c",
   "metadata": {},
   "source": [
    "**Downloading data from s3**"
   ]
  },
  {
   "cell_type": "code",
   "execution_count": 49,
   "id": "f148c1fa",
   "metadata": {},
   "outputs": [
    {
     "name": "stdout",
     "output_type": "stream",
     "text": [
      "File downloaded\n"
     ]
    }
   ],
   "source": [
    "# Get the service client\n",
    "s3 = boto3.client('s3')\n",
    "bucket_name = 'sagemaker-learner'\n",
    "folder_path = 'data'\n",
    "data_uri = \"s3://sagemaker-learner/data/cardio_train.csv\"\n",
    "\n",
    "try: \n",
    "    s3.download_file(\"sagemaker-learner\", \"data/cardio.csv\", \"cardio.csv\")\n",
    "    print(f\"File downloaded\")\n",
    "except:\n",
    "    print(f\"Error in file download\")"
   ]
  },
  {
   "cell_type": "code",
   "execution_count": 50,
   "id": "f37cd01c",
   "metadata": {},
   "outputs": [
    {
     "name": "stdout",
     "output_type": "stream",
     "text": [
      "(70000, 12)\n"
     ]
    },
    {
     "data": {
      "text/html": [
       "<div>\n",
       "<style scoped>\n",
       "    .dataframe tbody tr th:only-of-type {\n",
       "        vertical-align: middle;\n",
       "    }\n",
       "\n",
       "    .dataframe tbody tr th {\n",
       "        vertical-align: top;\n",
       "    }\n",
       "\n",
       "    .dataframe thead th {\n",
       "        text-align: right;\n",
       "    }\n",
       "</style>\n",
       "<table border=\"1\" class=\"dataframe\">\n",
       "  <thead>\n",
       "    <tr style=\"text-align: right;\">\n",
       "      <th></th>\n",
       "      <th>age</th>\n",
       "      <th>gender</th>\n",
       "      <th>height</th>\n",
       "      <th>weight</th>\n",
       "      <th>ap_hi</th>\n",
       "      <th>ap_lo</th>\n",
       "      <th>cholesterol</th>\n",
       "      <th>gluc</th>\n",
       "      <th>smoke</th>\n",
       "      <th>alco</th>\n",
       "      <th>active</th>\n",
       "      <th>cardio</th>\n",
       "    </tr>\n",
       "  </thead>\n",
       "  <tbody>\n",
       "    <tr>\n",
       "      <th>0</th>\n",
       "      <td>18393</td>\n",
       "      <td>2</td>\n",
       "      <td>168</td>\n",
       "      <td>62.0</td>\n",
       "      <td>110</td>\n",
       "      <td>80</td>\n",
       "      <td>1</td>\n",
       "      <td>1</td>\n",
       "      <td>0</td>\n",
       "      <td>0</td>\n",
       "      <td>1</td>\n",
       "      <td>0</td>\n",
       "    </tr>\n",
       "    <tr>\n",
       "      <th>1</th>\n",
       "      <td>20228</td>\n",
       "      <td>1</td>\n",
       "      <td>156</td>\n",
       "      <td>85.0</td>\n",
       "      <td>140</td>\n",
       "      <td>90</td>\n",
       "      <td>3</td>\n",
       "      <td>1</td>\n",
       "      <td>0</td>\n",
       "      <td>0</td>\n",
       "      <td>1</td>\n",
       "      <td>1</td>\n",
       "    </tr>\n",
       "    <tr>\n",
       "      <th>2</th>\n",
       "      <td>18857</td>\n",
       "      <td>1</td>\n",
       "      <td>165</td>\n",
       "      <td>64.0</td>\n",
       "      <td>130</td>\n",
       "      <td>70</td>\n",
       "      <td>3</td>\n",
       "      <td>1</td>\n",
       "      <td>0</td>\n",
       "      <td>0</td>\n",
       "      <td>0</td>\n",
       "      <td>1</td>\n",
       "    </tr>\n",
       "  </tbody>\n",
       "</table>\n",
       "</div>"
      ],
      "text/plain": [
       "     age  gender  height  weight  ap_hi  ap_lo  cholesterol  gluc  smoke  \\\n",
       "0  18393       2     168    62.0    110     80            1     1      0   \n",
       "1  20228       1     156    85.0    140     90            3     1      0   \n",
       "2  18857       1     165    64.0    130     70            3     1      0   \n",
       "\n",
       "   alco  active  cardio  \n",
       "0     0       1       0  \n",
       "1     0       1       1  \n",
       "2     0       0       1  "
      ]
     },
     "execution_count": 50,
     "metadata": {},
     "output_type": "execute_result"
    }
   ],
   "source": [
    "df = pd.read_csv('cardio.csv',sep=\";\")\n",
    "df = df.drop(columns=['id'])\n",
    "print(df.shape)\n",
    "df.head(3)"
   ]
  },
  {
   "cell_type": "code",
   "execution_count": 51,
   "id": "938a4ad2",
   "metadata": {},
   "outputs": [],
   "source": [
    "# since the age is given in days, we convert it into years\n",
    "\n",
    "df['age'] = df['age']/365\n"
   ]
  },
  {
   "cell_type": "code",
   "execution_count": 52,
   "id": "d5ddf52d",
   "metadata": {},
   "outputs": [
    {
     "data": {
      "text/plain": [
       "age            0\n",
       "gender         0\n",
       "height         0\n",
       "weight         0\n",
       "ap_hi          0\n",
       "ap_lo          0\n",
       "cholesterol    0\n",
       "gluc           0\n",
       "smoke          0\n",
       "alco           0\n",
       "active         0\n",
       "cardio         0\n",
       "dtype: int64"
      ]
     },
     "execution_count": 52,
     "metadata": {},
     "output_type": "execute_result"
    }
   ],
   "source": [
    "## checking null values\n",
    "df.isnull().sum()"
   ]
  },
  {
   "cell_type": "markdown",
   "id": "db9fb040",
   "metadata": {},
   "source": [
    "### Train test split"
   ]
  },
  {
   "cell_type": "code",
   "execution_count": 53,
   "id": "3c3c2a8e",
   "metadata": {},
   "outputs": [
    {
     "data": {
      "text/plain": [
       "0    35021\n",
       "1    34979\n",
       "Name: cardio, dtype: int64"
      ]
     },
     "execution_count": 53,
     "metadata": {},
     "output_type": "execute_result"
    }
   ],
   "source": [
    "df['cardio'].value_counts()"
   ]
  },
  {
   "cell_type": "code",
   "execution_count": 54,
   "id": "17bc89e8",
   "metadata": {},
   "outputs": [],
   "source": [
    "y = df['cardio']\n",
    "x = df.drop(columns='cardio')\n",
    "\n",
    "from sklearn.model_selection import train_test_split\n",
    "\n",
    "X_train,X_test,y_train,y_test = train_test_split(x,y,stratify=y,random_state=42)\n",
    "\n"
   ]
  },
  {
   "cell_type": "markdown",
   "id": "f8ce58b0",
   "metadata": {},
   "source": [
    "# PCA using Sagemaker"
   ]
  },
  {
   "cell_type": "code",
   "execution_count": 47,
   "id": "68f2ad14",
   "metadata": {},
   "outputs": [],
   "source": [
    "import sagemaker\n",
    "import boto3\n",
    "\n",
    "sagemaker_session = sagemaker.Session()\n",
    "# get region\n",
    "region_name = boto3.Session().region_name\n",
    "# get execution role\n",
    "role =  sagemaker.get_execution_role()\n"
   ]
  },
  {
   "cell_type": "code",
   "execution_count": 58,
   "id": "0f2e4766",
   "metadata": {},
   "outputs": [],
   "source": [
    "# upload data for pca\n",
    "import io\n",
    "import sagemaker.amazon.common as smac\n",
    "\n",
    "\n",
    "bucket_name = 'sagemaker-learner'\n",
    "data_key = 'cardio_vascular/pca_data'\n",
    "\n",
    "x = x.to_numpy()\n",
    "x = x.astype('float32')\n",
    "\n",
    "\n",
    "s3_client = boto3.client('s3') \n",
    "buf = io.BytesIO() # create an in-memory byte array (buf is a buffer I will be writing to)\n",
    "smac.write_numpy_to_dense_tensor(buf, x)\n",
    "buf.seek(0) \n",
    "s3_client.upload_fileobj(buf, bucket_name, data_key)\n"
   ]
  },
  {
   "cell_type": "code",
   "execution_count": 60,
   "id": "cca63fd2",
   "metadata": {},
   "outputs": [
    {
     "name": "stderr",
     "output_type": "stream",
     "text": [
      "The method get_image_uri has been renamed in sagemaker>=2.\n",
      "See: https://sagemaker.readthedocs.io/en/stable/v2.html for details.\n",
      "Defaulting to the only supported framework/algorithm version: 1. Ignoring framework/algorithm version: 1.\n",
      "train_instance_count has been renamed in sagemaker>=2.\n",
      "See: https://sagemaker.readthedocs.io/en/stable/v2.html for details.\n",
      "train_instance_type has been renamed in sagemaker>=2.\n",
      "See: https://sagemaker.readthedocs.io/en/stable/v2.html for details.\n"
     ]
    },
    {
     "name": "stdout",
     "output_type": "stream",
     "text": [
      "2022-09-06 05:32:21 Starting - Starting the training job...\n",
      "2022-09-06 05:32:45 Starting - Preparing the instances for trainingProfilerReport-1662442340: InProgress\n",
      ".........\n",
      "2022-09-06 05:34:17 Downloading - Downloading input data\n",
      "2022-09-06 05:34:17 Training - Downloading the training image...........\u001b[34mDocker entrypoint called with argument(s): train\u001b[0m\n",
      "\u001b[34mRunning default environment configuration script\u001b[0m\n",
      "\u001b[34m[09/06/2022 05:35:59 INFO 140137731159872] Reading default configuration from /opt/amazon/lib/python3.7/site-packages/algorithm/resources/default-conf.json: {'algorithm_mode': 'regular', 'subtract_mean': 'true', 'extra_components': '-1', 'force_dense': 'true', 'epochs': 1, '_log_level': 'info', '_kvstore': 'dist_sync', '_num_kv_servers': 'auto', '_num_gpus': 'auto'}\u001b[0m\n",
      "\u001b[34m[09/06/2022 05:35:59 INFO 140137731159872] Merging with provided configuration from /opt/ml/input/config/hyperparameters.json: {'algorithm_mode': 'regular', 'feature_dim': '11', 'mini_batch_size': '100', 'num_components': '6', 'subtract_mean': 'False'}\u001b[0m\n",
      "\u001b[34m[09/06/2022 05:35:59 INFO 140137731159872] Final configuration: {'algorithm_mode': 'regular', 'subtract_mean': 'False', 'extra_components': '-1', 'force_dense': 'true', 'epochs': 1, '_log_level': 'info', '_kvstore': 'dist_sync', '_num_kv_servers': 'auto', '_num_gpus': 'auto', 'feature_dim': '11', 'mini_batch_size': '100', 'num_components': '6'}\u001b[0m\n",
      "\u001b[34m[09/06/2022 05:35:59 WARNING 140137731159872] Loggers have already been setup.\u001b[0m\n",
      "\u001b[34m[09/06/2022 05:35:59 INFO 140137731159872] Launching parameter server for role scheduler\u001b[0m\n",
      "\u001b[34m[09/06/2022 05:35:59 INFO 140137731159872] {'ENVROOT': '/opt/amazon', 'PROTOCOL_BUFFERS_PYTHON_IMPLEMENTATION': 'cpp', 'HOSTNAME': 'ip-10-0-133-78.ec2.internal', 'TRAINING_JOB_NAME': 'pca-2022-09-06-05-32-20-941', 'NVIDIA_REQUIRE_CUDA': 'cuda>=9.0', 'TRAINING_JOB_ARN': 'arn:aws:sagemaker:us-east-1:673527203248:training-job/pca-2022-09-06-05-32-20-941', 'AWS_CONTAINER_CREDENTIALS_RELATIVE_URI': '/v2/credentials/proxy-8bd2384d81e459a6104b3554428d322ae8993c0d1363650aff9d21313e5fd643-customer', 'CANONICAL_ENVROOT': '/opt/amazon', 'PYTHONUNBUFFERED': 'TRUE', 'NVIDIA_VISIBLE_DEVICES': 'all', 'LD_LIBRARY_PATH': '/opt/amazon/lib/python3.7/site-packages/cv2/../../../../lib:/usr/local/nvidia/lib64:/opt/amazon/lib', 'NVIDIA_DRIVER_CAPABILITIES': 'compute,utility', 'PATH': '/opt/amazon/bin:/usr/local/nvidia/bin:/usr/local/sbin:/usr/local/bin:/usr/sbin:/usr/bin:/sbin:/bin', 'PWD': '/', 'LANG': 'en_US.utf8', 'AWS_REGION': 'us-east-1', 'HOME': '/root', 'SHLVL': '1', 'PROTOCOL_BUFFERS_PYTHON_IMPLEMENTATION_VERSION': '2', 'OMP_NUM_THREADS': '2', 'DMLC_INTERFACE': 'eth0', 'SAGEMAKER_HTTP_PORT': '8080', 'SAGEMAKER_DATA_PATH': '/opt/ml'}\u001b[0m\n",
      "\u001b[34m[09/06/2022 05:35:59 INFO 140137731159872] envs={'ENVROOT': '/opt/amazon', 'PROTOCOL_BUFFERS_PYTHON_IMPLEMENTATION': 'cpp', 'HOSTNAME': 'ip-10-0-133-78.ec2.internal', 'TRAINING_JOB_NAME': 'pca-2022-09-06-05-32-20-941', 'NVIDIA_REQUIRE_CUDA': 'cuda>=9.0', 'TRAINING_JOB_ARN': 'arn:aws:sagemaker:us-east-1:673527203248:training-job/pca-2022-09-06-05-32-20-941', 'AWS_CONTAINER_CREDENTIALS_RELATIVE_URI': '/v2/credentials/proxy-8bd2384d81e459a6104b3554428d322ae8993c0d1363650aff9d21313e5fd643-customer', 'CANONICAL_ENVROOT': '/opt/amazon', 'PYTHONUNBUFFERED': 'TRUE', 'NVIDIA_VISIBLE_DEVICES': 'all', 'LD_LIBRARY_PATH': '/opt/amazon/lib/python3.7/site-packages/cv2/../../../../lib:/usr/local/nvidia/lib64:/opt/amazon/lib', 'NVIDIA_DRIVER_CAPABILITIES': 'compute,utility', 'PATH': '/opt/amazon/bin:/usr/local/nvidia/bin:/usr/local/sbin:/usr/local/bin:/usr/sbin:/usr/bin:/sbin:/bin', 'PWD': '/', 'LANG': 'en_US.utf8', 'AWS_REGION': 'us-east-1', 'HOME': '/root', 'SHLVL': '1', 'PROTOCOL_BUFFERS_PYTHON_IMPLEMENTATION_VERSION': '2', 'OMP_NUM_THREADS': '2', 'DMLC_INTERFACE': 'eth0', 'SAGEMAKER_HTTP_PORT': '8080', 'SAGEMAKER_DATA_PATH': '/opt/ml', 'DMLC_ROLE': 'scheduler', 'DMLC_PS_ROOT_URI': '10.0.133.78', 'DMLC_PS_ROOT_PORT': '9000', 'DMLC_NUM_SERVER': '1', 'DMLC_NUM_WORKER': '1'}\u001b[0m\n",
      "\u001b[34m[09/06/2022 05:35:59 INFO 140137731159872] Launching parameter server for role server\u001b[0m\n",
      "\u001b[34m[09/06/2022 05:35:59 INFO 140137731159872] {'ENVROOT': '/opt/amazon', 'PROTOCOL_BUFFERS_PYTHON_IMPLEMENTATION': 'cpp', 'HOSTNAME': 'ip-10-0-133-78.ec2.internal', 'TRAINING_JOB_NAME': 'pca-2022-09-06-05-32-20-941', 'NVIDIA_REQUIRE_CUDA': 'cuda>=9.0', 'TRAINING_JOB_ARN': 'arn:aws:sagemaker:us-east-1:673527203248:training-job/pca-2022-09-06-05-32-20-941', 'AWS_CONTAINER_CREDENTIALS_RELATIVE_URI': '/v2/credentials/proxy-8bd2384d81e459a6104b3554428d322ae8993c0d1363650aff9d21313e5fd643-customer', 'CANONICAL_ENVROOT': '/opt/amazon', 'PYTHONUNBUFFERED': 'TRUE', 'NVIDIA_VISIBLE_DEVICES': 'all', 'LD_LIBRARY_PATH': '/opt/amazon/lib/python3.7/site-packages/cv2/../../../../lib:/usr/local/nvidia/lib64:/opt/amazon/lib', 'NVIDIA_DRIVER_CAPABILITIES': 'compute,utility', 'PATH': '/opt/amazon/bin:/usr/local/nvidia/bin:/usr/local/sbin:/usr/local/bin:/usr/sbin:/usr/bin:/sbin:/bin', 'PWD': '/', 'LANG': 'en_US.utf8', 'AWS_REGION': 'us-east-1', 'HOME': '/root', 'SHLVL': '1', 'PROTOCOL_BUFFERS_PYTHON_IMPLEMENTATION_VERSION': '2', 'OMP_NUM_THREADS': '2', 'DMLC_INTERFACE': 'eth0', 'SAGEMAKER_HTTP_PORT': '8080', 'SAGEMAKER_DATA_PATH': '/opt/ml'}\u001b[0m\n",
      "\u001b[34m[09/06/2022 05:35:59 INFO 140137731159872] envs={'ENVROOT': '/opt/amazon', 'PROTOCOL_BUFFERS_PYTHON_IMPLEMENTATION': 'cpp', 'HOSTNAME': 'ip-10-0-133-78.ec2.internal', 'TRAINING_JOB_NAME': 'pca-2022-09-06-05-32-20-941', 'NVIDIA_REQUIRE_CUDA': 'cuda>=9.0', 'TRAINING_JOB_ARN': 'arn:aws:sagemaker:us-east-1:673527203248:training-job/pca-2022-09-06-05-32-20-941', 'AWS_CONTAINER_CREDENTIALS_RELATIVE_URI': '/v2/credentials/proxy-8bd2384d81e459a6104b3554428d322ae8993c0d1363650aff9d21313e5fd643-customer', 'CANONICAL_ENVROOT': '/opt/amazon', 'PYTHONUNBUFFERED': 'TRUE', 'NVIDIA_VISIBLE_DEVICES': 'all', 'LD_LIBRARY_PATH': '/opt/amazon/lib/python3.7/site-packages/cv2/../../../../lib:/usr/local/nvidia/lib64:/opt/amazon/lib', 'NVIDIA_DRIVER_CAPABILITIES': 'compute,utility', 'PATH': '/opt/amazon/bin:/usr/local/nvidia/bin:/usr/local/sbin:/usr/local/bin:/usr/sbin:/usr/bin:/sbin:/bin', 'PWD': '/', 'LANG': 'en_US.utf8', 'AWS_REGION': 'us-east-1', 'HOME': '/root', 'SHLVL': '1', 'PROTOCOL_BUFFERS_PYTHON_IMPLEMENTATION_VERSION': '2', 'OMP_NUM_THREADS': '2', 'DMLC_INTERFACE': 'eth0', 'SAGEMAKER_HTTP_PORT': '8080', 'SAGEMAKER_DATA_PATH': '/opt/ml', 'DMLC_ROLE': 'server', 'DMLC_PS_ROOT_URI': '10.0.133.78', 'DMLC_PS_ROOT_PORT': '9000', 'DMLC_NUM_SERVER': '1', 'DMLC_NUM_WORKER': '1'}\u001b[0m\n",
      "\u001b[34m[09/06/2022 05:35:59 INFO 140137731159872] Environment: {'ENVROOT': '/opt/amazon', 'PROTOCOL_BUFFERS_PYTHON_IMPLEMENTATION': 'cpp', 'HOSTNAME': 'ip-10-0-133-78.ec2.internal', 'TRAINING_JOB_NAME': 'pca-2022-09-06-05-32-20-941', 'NVIDIA_REQUIRE_CUDA': 'cuda>=9.0', 'TRAINING_JOB_ARN': 'arn:aws:sagemaker:us-east-1:673527203248:training-job/pca-2022-09-06-05-32-20-941', 'AWS_CONTAINER_CREDENTIALS_RELATIVE_URI': '/v2/credentials/proxy-8bd2384d81e459a6104b3554428d322ae8993c0d1363650aff9d21313e5fd643-customer', 'CANONICAL_ENVROOT': '/opt/amazon', 'PYTHONUNBUFFERED': 'TRUE', 'NVIDIA_VISIBLE_DEVICES': 'all', 'LD_LIBRARY_PATH': '/opt/amazon/lib/python3.7/site-packages/cv2/../../../../lib:/usr/local/nvidia/lib64:/opt/amazon/lib', 'NVIDIA_DRIVER_CAPABILITIES': 'compute,utility', 'PATH': '/opt/amazon/bin:/usr/local/nvidia/bin:/usr/local/sbin:/usr/local/bin:/usr/sbin:/usr/bin:/sbin:/bin', 'PWD': '/', 'LANG': 'en_US.utf8', 'AWS_REGION': 'us-east-1', 'HOME': '/root', 'SHLVL': '1', 'PROTOCOL_BUFFERS_PYTHON_IMPLEMENTATION_VERSION': '2', 'OMP_NUM_THREADS': '2', 'DMLC_INTERFACE': 'eth0', 'SAGEMAKER_HTTP_PORT': '8080', 'SAGEMAKER_DATA_PATH': '/opt/ml', 'DMLC_ROLE': 'worker', 'DMLC_PS_ROOT_URI': '10.0.133.78', 'DMLC_PS_ROOT_PORT': '9000', 'DMLC_NUM_SERVER': '1', 'DMLC_NUM_WORKER': '1'}\u001b[0m\n",
      "\u001b[34mProcess 36 is a shell:scheduler.\u001b[0m\n",
      "\u001b[34mProcess 45 is a shell:server.\u001b[0m\n",
      "\u001b[34mProcess 1 is a worker.\u001b[0m\n",
      "\u001b[34m[09/06/2022 05:35:59 INFO 140137731159872] Using default worker.\u001b[0m\n",
      "\u001b[34m[09/06/2022 05:35:59 INFO 140137731159872] Loaded iterator creator application/x-labeled-vector-protobuf for content type ('application/x-labeled-vector-protobuf', '1.0')\u001b[0m\n",
      "\u001b[34m[09/06/2022 05:35:59 INFO 140137731159872] Loaded iterator creator application/x-recordio-protobuf for content type ('application/x-recordio-protobuf', '1.0')\u001b[0m\n",
      "\u001b[34m[09/06/2022 05:35:59 INFO 140137731159872] Loaded iterator creator protobuf for content type ('protobuf', '1.0')\u001b[0m\n",
      "\u001b[34m[09/06/2022 05:35:59 INFO 140137731159872] Checkpoint loading and saving are disabled.\u001b[0m\n",
      "\u001b[34m[09/06/2022 05:35:59 INFO 140137731159872] Create Store: dist_sync\u001b[0m\n",
      "\u001b[34m[09/06/2022 05:36:00 INFO 140137731159872] nvidia-smi: took 0.030 seconds to run.\u001b[0m\n",
      "\u001b[34m[09/06/2022 05:36:00 INFO 140137731159872] nvidia-smi identified 0 GPUs.\u001b[0m\n",
      "\u001b[34m[09/06/2022 05:36:00 INFO 140137731159872] Number of GPUs being used: 0\u001b[0m\n",
      "\u001b[34m[09/06/2022 05:36:00 INFO 140137731159872] The default executor is <PCAExecutor on cpu(0)>.\u001b[0m\n",
      "\u001b[34m[09/06/2022 05:36:00 INFO 140137731159872] 11 feature(s) found in 'data'.\u001b[0m\n",
      "\u001b[34m[09/06/2022 05:36:00 INFO 140137731159872] <PCAExecutor on cpu(0)> is assigned to batch slice from 0 to 99.\u001b[0m\n",
      "\u001b[34m#metrics {\"StartTime\": 1662442559.5132153, \"EndTime\": 1662442560.4706097, \"Dimensions\": {\"Algorithm\": \"PCA\", \"Host\": \"algo-1\", \"Operation\": \"training\"}, \"Metrics\": {\"initialize.time\": {\"sum\": 931.0541152954102, \"count\": 1, \"min\": 931.0541152954102, \"max\": 931.0541152954102}}}\u001b[0m\n",
      "\u001b[34m#metrics {\"StartTime\": 1662442560.4708483, \"EndTime\": 1662442560.4709017, \"Dimensions\": {\"Algorithm\": \"PCA\", \"Host\": \"algo-1\", \"Operation\": \"training\", \"Meta\": \"init_train_data_iter\"}, \"Metrics\": {\"Total Records Seen\": {\"sum\": 0.0, \"count\": 1, \"min\": 0, \"max\": 0}, \"Total Batches Seen\": {\"sum\": 0.0, \"count\": 1, \"min\": 0, \"max\": 0}, \"Max Records Seen Between Resets\": {\"sum\": 0.0, \"count\": 1, \"min\": 0, \"max\": 0}, \"Max Batches Seen Between Resets\": {\"sum\": 0.0, \"count\": 1, \"min\": 0, \"max\": 0}, \"Reset Count\": {\"sum\": 0.0, \"count\": 1, \"min\": 0, \"max\": 0}, \"Number of Records Since Last Reset\": {\"sum\": 0.0, \"count\": 1, \"min\": 0, \"max\": 0}, \"Number of Batches Since Last Reset\": {\"sum\": 0.0, \"count\": 1, \"min\": 0, \"max\": 0}}}\u001b[0m\n",
      "\u001b[34m[2022-09-06 05:36:00.471] [tensorio] [info] epoch_stats={\"data_pipeline\": \"/opt/ml/input/data/train\", \"epoch\": 0, \"duration\": 957, \"num_examples\": 1, \"num_bytes\": 6800}\u001b[0m\n",
      "\u001b[34m[2022-09-06 05:36:00.754] [tensorio] [info] epoch_stats={\"data_pipeline\": \"/opt/ml/input/data/train\", \"epoch\": 1, \"duration\": 276, \"num_examples\": 700, \"num_bytes\": 4760000}\u001b[0m\n",
      "\u001b[34m#metrics {\"StartTime\": 1662442560.470781, \"EndTime\": 1662442560.7548623, \"Dimensions\": {\"Algorithm\": \"PCA\", \"Host\": \"algo-1\", \"Operation\": \"training\"}, \"Metrics\": {\"epochs\": {\"sum\": 1.0, \"count\": 1, \"min\": 1, \"max\": 1}, \"update.time\": {\"sum\": 283.01548957824707, \"count\": 1, \"min\": 283.01548957824707, \"max\": 283.01548957824707}}}\u001b[0m\n",
      "\u001b[34m[09/06/2022 05:36:00 INFO 140137731159872] #progress_metric: host=algo-1, completed 100.0 % of epochs\u001b[0m\n",
      "\u001b[34m#metrics {\"StartTime\": 1662442560.4718087, \"EndTime\": 1662442560.7559335, \"Dimensions\": {\"Algorithm\": \"PCA\", \"Host\": \"algo-1\", \"Operation\": \"training\", \"epoch\": 0, \"Meta\": \"training_data_iter\"}, \"Metrics\": {\"Total Records Seen\": {\"sum\": 70000.0, \"count\": 1, \"min\": 70000, \"max\": 70000}, \"Total Batches Seen\": {\"sum\": 700.0, \"count\": 1, \"min\": 700, \"max\": 700}, \"Max Records Seen Between Resets\": {\"sum\": 70000.0, \"count\": 1, \"min\": 70000, \"max\": 70000}, \"Max Batches Seen Between Resets\": {\"sum\": 700.0, \"count\": 1, \"min\": 700, \"max\": 700}, \"Reset Count\": {\"sum\": 1.0, \"count\": 1, \"min\": 1, \"max\": 1}, \"Number of Records Since Last Reset\": {\"sum\": 70000.0, \"count\": 1, \"min\": 70000, \"max\": 70000}, \"Number of Batches Since Last Reset\": {\"sum\": 700.0, \"count\": 1, \"min\": 700, \"max\": 700}}}\u001b[0m\n",
      "\u001b[34m[09/06/2022 05:36:00 INFO 140137731159872] #throughput_metric: host=algo-1, train throughput=246239.14950576262 records/second\u001b[0m\n",
      "\u001b[34m#metrics {\"StartTime\": 1662442560.7555103, \"EndTime\": 1662442560.772261, \"Dimensions\": {\"Algorithm\": \"PCA\", \"Host\": \"algo-1\", \"Operation\": \"training\"}, \"Metrics\": {\"finalize.time\": {\"sum\": 15.902042388916016, \"count\": 1, \"min\": 15.902042388916016, \"max\": 15.902042388916016}}}\u001b[0m\n",
      "\u001b[34m[09/06/2022 05:36:00 INFO 140137731159872] Test data is not provided.\u001b[0m\n",
      "\u001b[34m#metrics {\"StartTime\": 1662442560.7723274, \"EndTime\": 1662442560.7738056, \"Dimensions\": {\"Algorithm\": \"PCA\", \"Host\": \"algo-1\", \"Operation\": \"training\"}, \"Metrics\": {\"setuptime\": {\"sum\": 34.47127342224121, \"count\": 1, \"min\": 34.47127342224121, \"max\": 34.47127342224121}, \"totaltime\": {\"sum\": 1447.188377380371, \"count\": 1, \"min\": 1447.188377380371, \"max\": 1447.188377380371}}}\u001b[0m\n",
      "\n",
      "2022-09-06 05:36:09 Uploading - Uploading generated training model\n",
      "2022-09-06 05:36:45 Completed - Training job completed\n",
      "Training seconds: 147\n",
      "Billable seconds: 147\n"
     ]
    }
   ],
   "source": [
    "from sagemaker.amazon.amazon_estimator import get_image_uri\n",
    "\n",
    "\n",
    "container = get_image_uri(region_name, 'pca')\n",
    "\n",
    "\n",
    "# We have pass in the container, the type of instance that we would like to use for training \n",
    "# output path and sagemaker session into the Estimator. \n",
    "# We can also specify how many instances we would like to use for training\n",
    "output_model_location = \"s3://sagemaker-learner/cardio_vascular/\"\n",
    "s3_train_data = \"s3://sagemaker-learner/cardio_vascular/pca_data\"\n",
    "\n",
    "\n",
    "pca = sagemaker.estimator.Estimator(container,\n",
    "                                    role, \n",
    "                                    train_instance_count=1, \n",
    "                                    train_instance_type='ml.c4.xlarge',\n",
    "                                    output_path=output_model_location,\n",
    "                                    sagemaker_session=sagemaker_session)\n",
    "\n",
    "# We can tune parameters like the number of features that we are passing in, mode of algorithm, mini batch size and number of pca components\n",
    "pca.set_hyperparameters(feature_dim=11,\n",
    "                        num_components=6,\n",
    "                        subtract_mean=False,\n",
    "                        algorithm_mode='regular',\n",
    "                        mini_batch_size=100)\n",
    "\n",
    "\n",
    "# Pass in the training data from S3 to train the pca model\n",
    "\n",
    "\n",
    "pca.fit({'train': s3_train_data})\n",
    "\n",
    "# Let's see the progress using cloudwatch logs"
   ]
  },
  {
   "cell_type": "markdown",
   "id": "b53a385c",
   "metadata": {},
   "source": [
    "**Deploying pca endpoint**"
   ]
  },
  {
   "cell_type": "code",
   "execution_count": 61,
   "id": "abdc1bf2",
   "metadata": {},
   "outputs": [
    {
     "name": "stdout",
     "output_type": "stream",
     "text": [
      "--------!"
     ]
    }
   ],
   "source": [
    "pca_reduction = pca.deploy(initial_instance_count = 1,\n",
    "                                          instance_type = 'ml.m4.xlarge')\n"
   ]
  },
  {
   "cell_type": "code",
   "execution_count": 65,
   "id": "7052e035",
   "metadata": {},
   "outputs": [
    {
     "data": {
      "text/plain": [
       "array([  -0.42187485,   -8.00320816,  -11.90813637,   47.10366058,\n",
       "         46.62126541, -225.4831543 ])"
      ]
     },
     "execution_count": 65,
     "metadata": {},
     "output_type": "execute_result"
    }
   ],
   "source": [
    "from sagemaker.predictor import csv_serializer, json_deserializer\n",
    "\n",
    "pca_reduction.serializer = csv_serializer\n",
    "pca_reduction.deserializer = json_deserializer\n",
    "\n",
    "X_test = X_test.to_numpy()\n",
    "X_test = X_test.astype('float32')\n",
    "result = pca_reduction.predict(X_test)\n",
    "predictions = np.array([r['projection'] for r in result['projections']])\n",
    "predictions[0]"
   ]
  },
  {
   "cell_type": "code",
   "execution_count": 66,
   "id": "fa78ddf7",
   "metadata": {},
   "outputs": [],
   "source": [
    "# Delete the end-point\n",
    "\n",
    "pca_reduction.delete_endpoint()"
   ]
  },
  {
   "cell_type": "code",
   "execution_count": null,
   "id": "92e29ce7",
   "metadata": {},
   "outputs": [],
   "source": []
  }
 ],
 "metadata": {
  "kernelspec": {
   "display_name": "conda_python3",
   "language": "python",
   "name": "conda_python3"
  },
  "language_info": {
   "codemirror_mode": {
    "name": "ipython",
    "version": 3
   },
   "file_extension": ".py",
   "mimetype": "text/x-python",
   "name": "python",
   "nbconvert_exporter": "python",
   "pygments_lexer": "ipython3",
   "version": "3.8.12"
  }
 },
 "nbformat": 4,
 "nbformat_minor": 5
}
